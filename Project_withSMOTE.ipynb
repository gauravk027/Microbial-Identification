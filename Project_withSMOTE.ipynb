{
  "cells": [
    {
      "cell_type": "code",
      "execution_count": null,
      "metadata": {
        "id": "Y03vMTbmewCF"
      },
      "outputs": [],
      "source": [
        "import pandas as pd\n",
        "import numpy as np\n",
        "import matplotlib.pyplot as plt\n",
        "import seaborn as sns\n",
        "from matplotlib.colors import ListedColormap\n",
        "from sklearn.preprocessing import LabelEncoder\n",
        "from sklearn.model_selection import train_test_split\n",
        "from sklearn.preprocessing import StandardScaler\n",
        "from sklearn.neighbors import KNeighborsClassifier\n",
        "from sklearn.tree import DecisionTreeClassifier\n",
        "from sklearn.ensemble import RandomForestClassifier\n",
        "from sklearn.linear_model import LogisticRegression\n",
        "from sklearn.naive_bayes import GaussianNB\n",
        "from sklearn.metrics import accuracy_score,recall_score,precision_score,f1_score,roc_auc_score\n",
        "from time import time\n",
        "import xgboost as xgb\n",
        "from sklearn.metrics import accuracy_score, confusion_matrix, precision_score, recall_score, ConfusionMatrixDisplay\n",
        "from matplotlib import pyplot as plt\n",
        "from sklearn.feature_selection import SelectFromModel\n",
        "from numpy import sort\n",
        "\n"
      ]
    },
    {
      "cell_type": "code",
      "execution_count": null,
      "metadata": {
        "id": "PcnftCxugdnz"
      },
      "outputs": [],
      "source": [
        "data = pd.read_csv('microbes.csv')"
      ]
    },
    {
      "cell_type": "code",
      "execution_count": null,
      "metadata": {
        "colab": {
          "base_uri": "https://localhost:8080/",
          "height": 317
        },
        "id": "jxV3GC0Bgn0i",
        "outputId": "4d8af8ae-c793-4a51-f1d7-170473cc673d"
      },
      "outputs": [
        {
          "output_type": "execute_result",
          "data": {
            "text/plain": [
              "   Unnamed: 0  Solidity  Eccentricity  EquivDiameter  Extrema  FilledArea  \\\n",
              "0           0     10.70          15.8           5.43     3.75       0.785   \n",
              "1           1      5.60          18.3           4.14     6.16       0.364   \n",
              "2           2      8.32          19.8           4.63     6.66       0.415   \n",
              "3           3     10.10          17.9           7.29    11.10       1.470   \n",
              "4           4      6.27          20.2          20.10    10.70      14.700   \n",
              "\n",
              "   Extent  Orientation  EulerNumber  BoundingBox1  ...  ConvexHull4  \\\n",
              "0    8.14         2.15         22.3          2.97  ...         2.97   \n",
              "1    3.51        18.60         22.5          5.41  ...         5.47   \n",
              "2    5.85        21.00         22.4          5.96  ...         5.96   \n",
              "3    6.30         9.94         21.9          8.81  ...         8.88   \n",
              "4    3.97         2.58         11.9         10.20  ...        10.20   \n",
              "\n",
              "   MajorAxisLength  MinorAxisLength  Perimeter  ConvexArea  Centroid1  \\\n",
              "0             1.34             1.61      0.683       0.195       3.63   \n",
              "1             1.52             1.52      1.010       0.215       6.01   \n",
              "2             1.63             1.38      1.110       0.182       6.55   \n",
              "3             2.04             2.12      0.715       0.371      10.30   \n",
              "4             7.78             6.21      6.800       4.440      14.00   \n",
              "\n",
              "   Centroid2    Area  raddi  microorganisms  \n",
              "0      12.10   1.310   7.99       Spirogyra  \n",
              "1      20.60   0.765   7.99       Spirogyra  \n",
              "2      11.50   0.953   7.99       Spirogyra  \n",
              "3      12.00   2.340   7.99       Spirogyra  \n",
              "4       9.55  17.600   7.99       Spirogyra  \n",
              "\n",
              "[5 rows x 26 columns]"
            ],
            "text/html": [
              "\n",
              "  <div id=\"df-a81ca375-b7e4-443c-9511-fa2409198101\">\n",
              "    <div class=\"colab-df-container\">\n",
              "      <div>\n",
              "<style scoped>\n",
              "    .dataframe tbody tr th:only-of-type {\n",
              "        vertical-align: middle;\n",
              "    }\n",
              "\n",
              "    .dataframe tbody tr th {\n",
              "        vertical-align: top;\n",
              "    }\n",
              "\n",
              "    .dataframe thead th {\n",
              "        text-align: right;\n",
              "    }\n",
              "</style>\n",
              "<table border=\"1\" class=\"dataframe\">\n",
              "  <thead>\n",
              "    <tr style=\"text-align: right;\">\n",
              "      <th></th>\n",
              "      <th>Unnamed: 0</th>\n",
              "      <th>Solidity</th>\n",
              "      <th>Eccentricity</th>\n",
              "      <th>EquivDiameter</th>\n",
              "      <th>Extrema</th>\n",
              "      <th>FilledArea</th>\n",
              "      <th>Extent</th>\n",
              "      <th>Orientation</th>\n",
              "      <th>EulerNumber</th>\n",
              "      <th>BoundingBox1</th>\n",
              "      <th>...</th>\n",
              "      <th>ConvexHull4</th>\n",
              "      <th>MajorAxisLength</th>\n",
              "      <th>MinorAxisLength</th>\n",
              "      <th>Perimeter</th>\n",
              "      <th>ConvexArea</th>\n",
              "      <th>Centroid1</th>\n",
              "      <th>Centroid2</th>\n",
              "      <th>Area</th>\n",
              "      <th>raddi</th>\n",
              "      <th>microorganisms</th>\n",
              "    </tr>\n",
              "  </thead>\n",
              "  <tbody>\n",
              "    <tr>\n",
              "      <th>0</th>\n",
              "      <td>0</td>\n",
              "      <td>10.70</td>\n",
              "      <td>15.8</td>\n",
              "      <td>5.43</td>\n",
              "      <td>3.75</td>\n",
              "      <td>0.785</td>\n",
              "      <td>8.14</td>\n",
              "      <td>2.15</td>\n",
              "      <td>22.3</td>\n",
              "      <td>2.97</td>\n",
              "      <td>...</td>\n",
              "      <td>2.97</td>\n",
              "      <td>1.34</td>\n",
              "      <td>1.61</td>\n",
              "      <td>0.683</td>\n",
              "      <td>0.195</td>\n",
              "      <td>3.63</td>\n",
              "      <td>12.10</td>\n",
              "      <td>1.310</td>\n",
              "      <td>7.99</td>\n",
              "      <td>Spirogyra</td>\n",
              "    </tr>\n",
              "    <tr>\n",
              "      <th>1</th>\n",
              "      <td>1</td>\n",
              "      <td>5.60</td>\n",
              "      <td>18.3</td>\n",
              "      <td>4.14</td>\n",
              "      <td>6.16</td>\n",
              "      <td>0.364</td>\n",
              "      <td>3.51</td>\n",
              "      <td>18.60</td>\n",
              "      <td>22.5</td>\n",
              "      <td>5.41</td>\n",
              "      <td>...</td>\n",
              "      <td>5.47</td>\n",
              "      <td>1.52</td>\n",
              "      <td>1.52</td>\n",
              "      <td>1.010</td>\n",
              "      <td>0.215</td>\n",
              "      <td>6.01</td>\n",
              "      <td>20.60</td>\n",
              "      <td>0.765</td>\n",
              "      <td>7.99</td>\n",
              "      <td>Spirogyra</td>\n",
              "    </tr>\n",
              "    <tr>\n",
              "      <th>2</th>\n",
              "      <td>2</td>\n",
              "      <td>8.32</td>\n",
              "      <td>19.8</td>\n",
              "      <td>4.63</td>\n",
              "      <td>6.66</td>\n",
              "      <td>0.415</td>\n",
              "      <td>5.85</td>\n",
              "      <td>21.00</td>\n",
              "      <td>22.4</td>\n",
              "      <td>5.96</td>\n",
              "      <td>...</td>\n",
              "      <td>5.96</td>\n",
              "      <td>1.63</td>\n",
              "      <td>1.38</td>\n",
              "      <td>1.110</td>\n",
              "      <td>0.182</td>\n",
              "      <td>6.55</td>\n",
              "      <td>11.50</td>\n",
              "      <td>0.953</td>\n",
              "      <td>7.99</td>\n",
              "      <td>Spirogyra</td>\n",
              "    </tr>\n",
              "    <tr>\n",
              "      <th>3</th>\n",
              "      <td>3</td>\n",
              "      <td>10.10</td>\n",
              "      <td>17.9</td>\n",
              "      <td>7.29</td>\n",
              "      <td>11.10</td>\n",
              "      <td>1.470</td>\n",
              "      <td>6.30</td>\n",
              "      <td>9.94</td>\n",
              "      <td>21.9</td>\n",
              "      <td>8.81</td>\n",
              "      <td>...</td>\n",
              "      <td>8.88</td>\n",
              "      <td>2.04</td>\n",
              "      <td>2.12</td>\n",
              "      <td>0.715</td>\n",
              "      <td>0.371</td>\n",
              "      <td>10.30</td>\n",
              "      <td>12.00</td>\n",
              "      <td>2.340</td>\n",
              "      <td>7.99</td>\n",
              "      <td>Spirogyra</td>\n",
              "    </tr>\n",
              "    <tr>\n",
              "      <th>4</th>\n",
              "      <td>4</td>\n",
              "      <td>6.27</td>\n",
              "      <td>20.2</td>\n",
              "      <td>20.10</td>\n",
              "      <td>10.70</td>\n",
              "      <td>14.700</td>\n",
              "      <td>3.97</td>\n",
              "      <td>2.58</td>\n",
              "      <td>11.9</td>\n",
              "      <td>10.20</td>\n",
              "      <td>...</td>\n",
              "      <td>10.20</td>\n",
              "      <td>7.78</td>\n",
              "      <td>6.21</td>\n",
              "      <td>6.800</td>\n",
              "      <td>4.440</td>\n",
              "      <td>14.00</td>\n",
              "      <td>9.55</td>\n",
              "      <td>17.600</td>\n",
              "      <td>7.99</td>\n",
              "      <td>Spirogyra</td>\n",
              "    </tr>\n",
              "  </tbody>\n",
              "</table>\n",
              "<p>5 rows × 26 columns</p>\n",
              "</div>\n",
              "      <button class=\"colab-df-convert\" onclick=\"convertToInteractive('df-a81ca375-b7e4-443c-9511-fa2409198101')\"\n",
              "              title=\"Convert this dataframe to an interactive table.\"\n",
              "              style=\"display:none;\">\n",
              "        \n",
              "  <svg xmlns=\"http://www.w3.org/2000/svg\" height=\"24px\"viewBox=\"0 0 24 24\"\n",
              "       width=\"24px\">\n",
              "    <path d=\"M0 0h24v24H0V0z\" fill=\"none\"/>\n",
              "    <path d=\"M18.56 5.44l.94 2.06.94-2.06 2.06-.94-2.06-.94-.94-2.06-.94 2.06-2.06.94zm-11 1L8.5 8.5l.94-2.06 2.06-.94-2.06-.94L8.5 2.5l-.94 2.06-2.06.94zm10 10l.94 2.06.94-2.06 2.06-.94-2.06-.94-.94-2.06-.94 2.06-2.06.94z\"/><path d=\"M17.41 7.96l-1.37-1.37c-.4-.4-.92-.59-1.43-.59-.52 0-1.04.2-1.43.59L10.3 9.45l-7.72 7.72c-.78.78-.78 2.05 0 2.83L4 21.41c.39.39.9.59 1.41.59.51 0 1.02-.2 1.41-.59l7.78-7.78 2.81-2.81c.8-.78.8-2.07 0-2.86zM5.41 20L4 18.59l7.72-7.72 1.47 1.35L5.41 20z\"/>\n",
              "  </svg>\n",
              "      </button>\n",
              "      \n",
              "  <style>\n",
              "    .colab-df-container {\n",
              "      display:flex;\n",
              "      flex-wrap:wrap;\n",
              "      gap: 12px;\n",
              "    }\n",
              "\n",
              "    .colab-df-convert {\n",
              "      background-color: #E8F0FE;\n",
              "      border: none;\n",
              "      border-radius: 50%;\n",
              "      cursor: pointer;\n",
              "      display: none;\n",
              "      fill: #1967D2;\n",
              "      height: 32px;\n",
              "      padding: 0 0 0 0;\n",
              "      width: 32px;\n",
              "    }\n",
              "\n",
              "    .colab-df-convert:hover {\n",
              "      background-color: #E2EBFA;\n",
              "      box-shadow: 0px 1px 2px rgba(60, 64, 67, 0.3), 0px 1px 3px 1px rgba(60, 64, 67, 0.15);\n",
              "      fill: #174EA6;\n",
              "    }\n",
              "\n",
              "    [theme=dark] .colab-df-convert {\n",
              "      background-color: #3B4455;\n",
              "      fill: #D2E3FC;\n",
              "    }\n",
              "\n",
              "    [theme=dark] .colab-df-convert:hover {\n",
              "      background-color: #434B5C;\n",
              "      box-shadow: 0px 1px 3px 1px rgba(0, 0, 0, 0.15);\n",
              "      filter: drop-shadow(0px 1px 2px rgba(0, 0, 0, 0.3));\n",
              "      fill: #FFFFFF;\n",
              "    }\n",
              "  </style>\n",
              "\n",
              "      <script>\n",
              "        const buttonEl =\n",
              "          document.querySelector('#df-a81ca375-b7e4-443c-9511-fa2409198101 button.colab-df-convert');\n",
              "        buttonEl.style.display =\n",
              "          google.colab.kernel.accessAllowed ? 'block' : 'none';\n",
              "\n",
              "        async function convertToInteractive(key) {\n",
              "          const element = document.querySelector('#df-a81ca375-b7e4-443c-9511-fa2409198101');\n",
              "          const dataTable =\n",
              "            await google.colab.kernel.invokeFunction('convertToInteractive',\n",
              "                                                     [key], {});\n",
              "          if (!dataTable) return;\n",
              "\n",
              "          const docLinkHtml = 'Like what you see? Visit the ' +\n",
              "            '<a target=\"_blank\" href=https://colab.research.google.com/notebooks/data_table.ipynb>data table notebook</a>'\n",
              "            + ' to learn more about interactive tables.';\n",
              "          element.innerHTML = '';\n",
              "          dataTable['output_type'] = 'display_data';\n",
              "          await google.colab.output.renderOutput(dataTable, element);\n",
              "          const docLink = document.createElement('div');\n",
              "          docLink.innerHTML = docLinkHtml;\n",
              "          element.appendChild(docLink);\n",
              "        }\n",
              "      </script>\n",
              "    </div>\n",
              "  </div>\n",
              "  "
            ]
          },
          "metadata": {},
          "execution_count": 3
        }
      ],
      "source": [
        "data.head()"
      ]
    },
    {
      "cell_type": "code",
      "execution_count": null,
      "metadata": {
        "colab": {
          "base_uri": "https://localhost:8080/"
        },
        "id": "3Pccpz_GmKpf",
        "outputId": "5d5286a9-7a83-400b-8819-82910e476ed6"
      },
      "outputs": [
        {
          "output_type": "stream",
          "name": "stdout",
          "text": [
            "Dataset shape: (30527, 26)\n"
          ]
        }
      ],
      "source": [
        "print(f'Dataset shape: {data.shape}')"
      ]
    },
    {
      "cell_type": "code",
      "execution_count": null,
      "metadata": {
        "colab": {
          "base_uri": "https://localhost:8080/"
        },
        "id": "6HF4Tp_8gqgO",
        "outputId": "5bb72c6d-0944-41e6-c25a-0ec5b7c50077"
      },
      "outputs": [
        {
          "output_type": "execute_result",
          "data": {
            "text/plain": [
              "Unnamed: 0           int64\n",
              "Solidity           float64\n",
              "Eccentricity       float64\n",
              "EquivDiameter      float64\n",
              "Extrema            float64\n",
              "FilledArea         float64\n",
              "Extent             float64\n",
              "Orientation        float64\n",
              "EulerNumber        float64\n",
              "BoundingBox1       float64\n",
              "BoundingBox2       float64\n",
              "BoundingBox3       float64\n",
              "BoundingBox4       float64\n",
              "ConvexHull1        float64\n",
              "ConvexHull2        float64\n",
              "ConvexHull3        float64\n",
              "ConvexHull4        float64\n",
              "MajorAxisLength    float64\n",
              "MinorAxisLength    float64\n",
              "Perimeter          float64\n",
              "ConvexArea         float64\n",
              "Centroid1          float64\n",
              "Centroid2          float64\n",
              "Area               float64\n",
              "raddi              float64\n",
              "microorganisms      object\n",
              "dtype: object"
            ]
          },
          "metadata": {},
          "execution_count": 5
        }
      ],
      "source": [
        "data.dtypes"
      ]
    },
    {
      "cell_type": "code",
      "execution_count": null,
      "metadata": {
        "colab": {
          "base_uri": "https://localhost:8080/",
          "height": 411
        },
        "id": "LIMri48ImaHU",
        "outputId": "2029b3e8-2c1d-40bf-cdfc-e0caa7c483b5"
      },
      "outputs": [
        {
          "data": {
            "text/html": [
              "\n",
              "  <div id=\"df-87fee938-cf19-4dff-a503-74b9245c573d\">\n",
              "    <div class=\"colab-df-container\">\n",
              "      <div>\n",
              "<style scoped>\n",
              "    .dataframe tbody tr th:only-of-type {\n",
              "        vertical-align: middle;\n",
              "    }\n",
              "\n",
              "    .dataframe tbody tr th {\n",
              "        vertical-align: top;\n",
              "    }\n",
              "\n",
              "    .dataframe thead th {\n",
              "        text-align: right;\n",
              "    }\n",
              "</style>\n",
              "<table border=\"1\" class=\"dataframe\">\n",
              "  <thead>\n",
              "    <tr style=\"text-align: right;\">\n",
              "      <th></th>\n",
              "      <th>Unnamed: 0</th>\n",
              "      <th>Solidity</th>\n",
              "      <th>Eccentricity</th>\n",
              "      <th>EquivDiameter</th>\n",
              "      <th>Extrema</th>\n",
              "      <th>FilledArea</th>\n",
              "      <th>Extent</th>\n",
              "      <th>Orientation</th>\n",
              "      <th>EulerNumber</th>\n",
              "      <th>BoundingBox1</th>\n",
              "      <th>...</th>\n",
              "      <th>ConvexHull3</th>\n",
              "      <th>ConvexHull4</th>\n",
              "      <th>MajorAxisLength</th>\n",
              "      <th>MinorAxisLength</th>\n",
              "      <th>Perimeter</th>\n",
              "      <th>ConvexArea</th>\n",
              "      <th>Centroid1</th>\n",
              "      <th>Centroid2</th>\n",
              "      <th>Area</th>\n",
              "      <th>raddi</th>\n",
              "    </tr>\n",
              "  </thead>\n",
              "  <tbody>\n",
              "    <tr>\n",
              "      <th>count</th>\n",
              "      <td>30527.00000</td>\n",
              "      <td>30527.000000</td>\n",
              "      <td>30527.000000</td>\n",
              "      <td>30527.000000</td>\n",
              "      <td>30527.000000</td>\n",
              "      <td>30527.000000</td>\n",
              "      <td>30527.000000</td>\n",
              "      <td>30527.000000</td>\n",
              "      <td>30527.000000</td>\n",
              "      <td>30527.000000</td>\n",
              "      <td>...</td>\n",
              "      <td>30527.000000</td>\n",
              "      <td>30527.000000</td>\n",
              "      <td>30527.000000</td>\n",
              "      <td>30527.000000</td>\n",
              "      <td>30527.000000</td>\n",
              "      <td>30527.000000</td>\n",
              "      <td>30527.000000</td>\n",
              "      <td>30527.000000</td>\n",
              "      <td>30527.00000</td>\n",
              "      <td>30527.000000</td>\n",
              "    </tr>\n",
              "    <tr>\n",
              "      <th>mean</th>\n",
              "      <td>15263.00000</td>\n",
              "      <td>9.677744</td>\n",
              "      <td>19.466921</td>\n",
              "      <td>3.633348</td>\n",
              "      <td>11.871832</td>\n",
              "      <td>0.420022</td>\n",
              "      <td>5.840625</td>\n",
              "      <td>11.751004</td>\n",
              "      <td>22.380901</td>\n",
              "      <td>10.919027</td>\n",
              "      <td>...</td>\n",
              "      <td>11.046482</td>\n",
              "      <td>11.021988</td>\n",
              "      <td>1.605159</td>\n",
              "      <td>1.014179</td>\n",
              "      <td>0.829416</td>\n",
              "      <td>0.254596</td>\n",
              "      <td>11.752783</td>\n",
              "      <td>11.554286</td>\n",
              "      <td>0.80278</td>\n",
              "      <td>5.214598</td>\n",
              "    </tr>\n",
              "    <tr>\n",
              "      <th>std</th>\n",
              "      <td>8812.53017</td>\n",
              "      <td>4.063437</td>\n",
              "      <td>3.479828</td>\n",
              "      <td>2.210851</td>\n",
              "      <td>6.045135</td>\n",
              "      <td>0.875091</td>\n",
              "      <td>3.250999</td>\n",
              "      <td>6.575319</td>\n",
              "      <td>0.962906</td>\n",
              "      <td>6.093280</td>\n",
              "      <td>...</td>\n",
              "      <td>6.089508</td>\n",
              "      <td>6.089467</td>\n",
              "      <td>1.662537</td>\n",
              "      <td>1.224326</td>\n",
              "      <td>1.152165</td>\n",
              "      <td>0.971035</td>\n",
              "      <td>6.029756</td>\n",
              "      <td>5.700637</td>\n",
              "      <td>1.17043</td>\n",
              "      <td>2.805199</td>\n",
              "    </tr>\n",
              "    <tr>\n",
              "      <th>min</th>\n",
              "      <td>0.00000</td>\n",
              "      <td>0.000000</td>\n",
              "      <td>0.000000</td>\n",
              "      <td>0.000000</td>\n",
              "      <td>0.000000</td>\n",
              "      <td>0.000000</td>\n",
              "      <td>0.000000</td>\n",
              "      <td>0.000000</td>\n",
              "      <td>0.000000</td>\n",
              "      <td>0.000000</td>\n",
              "      <td>...</td>\n",
              "      <td>0.000000</td>\n",
              "      <td>0.000000</td>\n",
              "      <td>0.000000</td>\n",
              "      <td>0.000000</td>\n",
              "      <td>0.000000</td>\n",
              "      <td>0.000000</td>\n",
              "      <td>0.000000</td>\n",
              "      <td>0.000000</td>\n",
              "      <td>0.00000</td>\n",
              "      <td>0.000000</td>\n",
              "    </tr>\n",
              "    <tr>\n",
              "      <th>25%</th>\n",
              "      <td>7631.50000</td>\n",
              "      <td>6.570000</td>\n",
              "      <td>17.300000</td>\n",
              "      <td>2.180000</td>\n",
              "      <td>6.790000</td>\n",
              "      <td>0.093700</td>\n",
              "      <td>3.280000</td>\n",
              "      <td>6.005000</td>\n",
              "      <td>22.300000</td>\n",
              "      <td>5.690000</td>\n",
              "      <td>...</td>\n",
              "      <td>5.790000</td>\n",
              "      <td>5.755000</td>\n",
              "      <td>0.635000</td>\n",
              "      <td>0.421000</td>\n",
              "      <td>0.253000</td>\n",
              "      <td>0.034700</td>\n",
              "      <td>6.570000</td>\n",
              "      <td>7.110000</td>\n",
              "      <td>0.21800</td>\n",
              "      <td>3.080000</td>\n",
              "    </tr>\n",
              "    <tr>\n",
              "      <th>50%</th>\n",
              "      <td>15263.00000</td>\n",
              "      <td>9.350000</td>\n",
              "      <td>20.700000</td>\n",
              "      <td>3.380000</td>\n",
              "      <td>12.000000</td>\n",
              "      <td>0.229000</td>\n",
              "      <td>5.260000</td>\n",
              "      <td>12.100000</td>\n",
              "      <td>22.600000</td>\n",
              "      <td>10.900000</td>\n",
              "      <td>...</td>\n",
              "      <td>11.000000</td>\n",
              "      <td>11.000000</td>\n",
              "      <td>1.160000</td>\n",
              "      <td>0.745000</td>\n",
              "      <td>0.518000</td>\n",
              "      <td>0.085700</td>\n",
              "      <td>12.100000</td>\n",
              "      <td>11.200000</td>\n",
              "      <td>0.51400</td>\n",
              "      <td>5.320000</td>\n",
              "    </tr>\n",
              "    <tr>\n",
              "      <th>75%</th>\n",
              "      <td>22894.50000</td>\n",
              "      <td>12.600000</td>\n",
              "      <td>22.200000</td>\n",
              "      <td>4.580000</td>\n",
              "      <td>17.200000</td>\n",
              "      <td>0.434500</td>\n",
              "      <td>7.850000</td>\n",
              "      <td>17.200000</td>\n",
              "      <td>22.900000</td>\n",
              "      <td>15.800000</td>\n",
              "      <td>...</td>\n",
              "      <td>15.900000</td>\n",
              "      <td>15.900000</td>\n",
              "      <td>2.070000</td>\n",
              "      <td>1.220000</td>\n",
              "      <td>0.968000</td>\n",
              "      <td>0.200000</td>\n",
              "      <td>16.900000</td>\n",
              "      <td>16.200000</td>\n",
              "      <td>0.93400</td>\n",
              "      <td>7.050000</td>\n",
              "    </tr>\n",
              "    <tr>\n",
              "      <th>max</th>\n",
              "      <td>30526.00000</td>\n",
              "      <td>23.000000</td>\n",
              "      <td>23.000000</td>\n",
              "      <td>23.000000</td>\n",
              "      <td>23.000000</td>\n",
              "      <td>23.000000</td>\n",
              "      <td>23.000000</td>\n",
              "      <td>23.000000</td>\n",
              "      <td>23.000000</td>\n",
              "      <td>23.000000</td>\n",
              "      <td>...</td>\n",
              "      <td>23.000000</td>\n",
              "      <td>23.000000</td>\n",
              "      <td>23.000000</td>\n",
              "      <td>23.000000</td>\n",
              "      <td>23.000000</td>\n",
              "      <td>23.000000</td>\n",
              "      <td>23.000000</td>\n",
              "      <td>23.000000</td>\n",
              "      <td>23.00000</td>\n",
              "      <td>23.000000</td>\n",
              "    </tr>\n",
              "  </tbody>\n",
              "</table>\n",
              "<p>8 rows × 25 columns</p>\n",
              "</div>\n",
              "      <button class=\"colab-df-convert\" onclick=\"convertToInteractive('df-87fee938-cf19-4dff-a503-74b9245c573d')\"\n",
              "              title=\"Convert this dataframe to an interactive table.\"\n",
              "              style=\"display:none;\">\n",
              "        \n",
              "  <svg xmlns=\"http://www.w3.org/2000/svg\" height=\"24px\"viewBox=\"0 0 24 24\"\n",
              "       width=\"24px\">\n",
              "    <path d=\"M0 0h24v24H0V0z\" fill=\"none\"/>\n",
              "    <path d=\"M18.56 5.44l.94 2.06.94-2.06 2.06-.94-2.06-.94-.94-2.06-.94 2.06-2.06.94zm-11 1L8.5 8.5l.94-2.06 2.06-.94-2.06-.94L8.5 2.5l-.94 2.06-2.06.94zm10 10l.94 2.06.94-2.06 2.06-.94-2.06-.94-.94-2.06-.94 2.06-2.06.94z\"/><path d=\"M17.41 7.96l-1.37-1.37c-.4-.4-.92-.59-1.43-.59-.52 0-1.04.2-1.43.59L10.3 9.45l-7.72 7.72c-.78.78-.78 2.05 0 2.83L4 21.41c.39.39.9.59 1.41.59.51 0 1.02-.2 1.41-.59l7.78-7.78 2.81-2.81c.8-.78.8-2.07 0-2.86zM5.41 20L4 18.59l7.72-7.72 1.47 1.35L5.41 20z\"/>\n",
              "  </svg>\n",
              "      </button>\n",
              "      \n",
              "  <style>\n",
              "    .colab-df-container {\n",
              "      display:flex;\n",
              "      flex-wrap:wrap;\n",
              "      gap: 12px;\n",
              "    }\n",
              "\n",
              "    .colab-df-convert {\n",
              "      background-color: #E8F0FE;\n",
              "      border: none;\n",
              "      border-radius: 50%;\n",
              "      cursor: pointer;\n",
              "      display: none;\n",
              "      fill: #1967D2;\n",
              "      height: 32px;\n",
              "      padding: 0 0 0 0;\n",
              "      width: 32px;\n",
              "    }\n",
              "\n",
              "    .colab-df-convert:hover {\n",
              "      background-color: #E2EBFA;\n",
              "      box-shadow: 0px 1px 2px rgba(60, 64, 67, 0.3), 0px 1px 3px 1px rgba(60, 64, 67, 0.15);\n",
              "      fill: #174EA6;\n",
              "    }\n",
              "\n",
              "    [theme=dark] .colab-df-convert {\n",
              "      background-color: #3B4455;\n",
              "      fill: #D2E3FC;\n",
              "    }\n",
              "\n",
              "    [theme=dark] .colab-df-convert:hover {\n",
              "      background-color: #434B5C;\n",
              "      box-shadow: 0px 1px 3px 1px rgba(0, 0, 0, 0.15);\n",
              "      filter: drop-shadow(0px 1px 2px rgba(0, 0, 0, 0.3));\n",
              "      fill: #FFFFFF;\n",
              "    }\n",
              "  </style>\n",
              "\n",
              "      <script>\n",
              "        const buttonEl =\n",
              "          document.querySelector('#df-87fee938-cf19-4dff-a503-74b9245c573d button.colab-df-convert');\n",
              "        buttonEl.style.display =\n",
              "          google.colab.kernel.accessAllowed ? 'block' : 'none';\n",
              "\n",
              "        async function convertToInteractive(key) {\n",
              "          const element = document.querySelector('#df-87fee938-cf19-4dff-a503-74b9245c573d');\n",
              "          const dataTable =\n",
              "            await google.colab.kernel.invokeFunction('convertToInteractive',\n",
              "                                                     [key], {});\n",
              "          if (!dataTable) return;\n",
              "\n",
              "          const docLinkHtml = 'Like what you see? Visit the ' +\n",
              "            '<a target=\"_blank\" href=https://colab.research.google.com/notebooks/data_table.ipynb>data table notebook</a>'\n",
              "            + ' to learn more about interactive tables.';\n",
              "          element.innerHTML = '';\n",
              "          dataTable['output_type'] = 'display_data';\n",
              "          await google.colab.output.renderOutput(dataTable, element);\n",
              "          const docLink = document.createElement('div');\n",
              "          docLink.innerHTML = docLinkHtml;\n",
              "          element.appendChild(docLink);\n",
              "        }\n",
              "      </script>\n",
              "    </div>\n",
              "  </div>\n",
              "  "
            ],
            "text/plain": [
              "        Unnamed: 0      Solidity  Eccentricity  EquivDiameter       Extrema  \\\n",
              "count  30527.00000  30527.000000  30527.000000   30527.000000  30527.000000   \n",
              "mean   15263.00000      9.677744     19.466921       3.633348     11.871832   \n",
              "std     8812.53017      4.063437      3.479828       2.210851      6.045135   \n",
              "min        0.00000      0.000000      0.000000       0.000000      0.000000   \n",
              "25%     7631.50000      6.570000     17.300000       2.180000      6.790000   \n",
              "50%    15263.00000      9.350000     20.700000       3.380000     12.000000   \n",
              "75%    22894.50000     12.600000     22.200000       4.580000     17.200000   \n",
              "max    30526.00000     23.000000     23.000000      23.000000     23.000000   \n",
              "\n",
              "         FilledArea        Extent   Orientation   EulerNumber  BoundingBox1  \\\n",
              "count  30527.000000  30527.000000  30527.000000  30527.000000  30527.000000   \n",
              "mean       0.420022      5.840625     11.751004     22.380901     10.919027   \n",
              "std        0.875091      3.250999      6.575319      0.962906      6.093280   \n",
              "min        0.000000      0.000000      0.000000      0.000000      0.000000   \n",
              "25%        0.093700      3.280000      6.005000     22.300000      5.690000   \n",
              "50%        0.229000      5.260000     12.100000     22.600000     10.900000   \n",
              "75%        0.434500      7.850000     17.200000     22.900000     15.800000   \n",
              "max       23.000000     23.000000     23.000000     23.000000     23.000000   \n",
              "\n",
              "       ...   ConvexHull3   ConvexHull4  MajorAxisLength  MinorAxisLength  \\\n",
              "count  ...  30527.000000  30527.000000     30527.000000     30527.000000   \n",
              "mean   ...     11.046482     11.021988         1.605159         1.014179   \n",
              "std    ...      6.089508      6.089467         1.662537         1.224326   \n",
              "min    ...      0.000000      0.000000         0.000000         0.000000   \n",
              "25%    ...      5.790000      5.755000         0.635000         0.421000   \n",
              "50%    ...     11.000000     11.000000         1.160000         0.745000   \n",
              "75%    ...     15.900000     15.900000         2.070000         1.220000   \n",
              "max    ...     23.000000     23.000000        23.000000        23.000000   \n",
              "\n",
              "          Perimeter    ConvexArea     Centroid1     Centroid2         Area  \\\n",
              "count  30527.000000  30527.000000  30527.000000  30527.000000  30527.00000   \n",
              "mean       0.829416      0.254596     11.752783     11.554286      0.80278   \n",
              "std        1.152165      0.971035      6.029756      5.700637      1.17043   \n",
              "min        0.000000      0.000000      0.000000      0.000000      0.00000   \n",
              "25%        0.253000      0.034700      6.570000      7.110000      0.21800   \n",
              "50%        0.518000      0.085700     12.100000     11.200000      0.51400   \n",
              "75%        0.968000      0.200000     16.900000     16.200000      0.93400   \n",
              "max       23.000000     23.000000     23.000000     23.000000     23.00000   \n",
              "\n",
              "              raddi  \n",
              "count  30527.000000  \n",
              "mean       5.214598  \n",
              "std        2.805199  \n",
              "min        0.000000  \n",
              "25%        3.080000  \n",
              "50%        5.320000  \n",
              "75%        7.050000  \n",
              "max       23.000000  \n",
              "\n",
              "[8 rows x 25 columns]"
            ]
          },
          "execution_count": 6,
          "metadata": {},
          "output_type": "execute_result"
        }
      ],
      "source": [
        "data.describe()"
      ]
    },
    {
      "cell_type": "markdown",
      "metadata": {
        "id": "Mep7IQFHjBPB"
      },
      "source": [
        "Missing values"
      ]
    },
    {
      "cell_type": "code",
      "execution_count": null,
      "metadata": {
        "colab": {
          "base_uri": "https://localhost:8080/"
        },
        "id": "9uHcfWT-i_dS",
        "outputId": "87eb0d2d-5750-42a3-adfb-7a05d31cff34"
      },
      "outputs": [
        {
          "data": {
            "text/plain": [
              "Unnamed: 0         0\n",
              "Solidity           0\n",
              "Eccentricity       0\n",
              "EquivDiameter      0\n",
              "Extrema            0\n",
              "FilledArea         0\n",
              "Extent             0\n",
              "Orientation        0\n",
              "EulerNumber        0\n",
              "BoundingBox1       0\n",
              "BoundingBox2       0\n",
              "BoundingBox3       0\n",
              "BoundingBox4       0\n",
              "ConvexHull1        0\n",
              "ConvexHull2        0\n",
              "ConvexHull3        0\n",
              "ConvexHull4        0\n",
              "MajorAxisLength    0\n",
              "MinorAxisLength    0\n",
              "Perimeter          0\n",
              "ConvexArea         0\n",
              "Centroid1          0\n",
              "Centroid2          0\n",
              "Area               0\n",
              "raddi              0\n",
              "microorganisms     0\n",
              "dtype: int64"
            ]
          },
          "execution_count": 7,
          "metadata": {},
          "output_type": "execute_result"
        }
      ],
      "source": [
        "data.isnull().sum()"
      ]
    },
    {
      "cell_type": "markdown",
      "metadata": {
        "id": "j6Q8UdOirS0Z"
      },
      "source": [
        "Removing Unnamed: 0 column as  it is meaning less for prediction purpose"
      ]
    },
    {
      "cell_type": "code",
      "execution_count": null,
      "metadata": {
        "id": "LsVIuGrCqo5T"
      },
      "outputs": [],
      "source": [
        "data.drop(['Unnamed: 0'], axis=1, inplace=True)"
      ]
    },
    {
      "cell_type": "code",
      "execution_count": null,
      "metadata": {
        "colab": {
          "base_uri": "https://localhost:8080/"
        },
        "id": "xdNLsDworkBS",
        "outputId": "2f6d3e52-d7c8-47fd-e70f-f03abb5a4dfe"
      },
      "outputs": [
        {
          "output_type": "stream",
          "name": "stdout",
          "text": [
            "Dataset shape: (30527, 25)\n"
          ]
        }
      ],
      "source": [
        "print(f'Dataset shape: {data.shape}')"
      ]
    },
    {
      "cell_type": "markdown",
      "metadata": {
        "id": "b5xM1BLrjMRO"
      },
      "source": [
        "Duplicate Values"
      ]
    },
    {
      "cell_type": "code",
      "execution_count": null,
      "metadata": {
        "colab": {
          "base_uri": "https://localhost:8080/"
        },
        "id": "RQ_2k0OEjMeI",
        "outputId": "e09a6812-e0a1-4638-fb31-2b4cd0929cf4"
      },
      "outputs": [
        {
          "output_type": "stream",
          "name": "stdout",
          "text": [
            "Duplicates in the dataset: 25653\n",
            "Percentage of duplicates: 84.03380613882793%\n"
          ]
        }
      ],
      "source": [
        "print(f'Duplicates in the dataset: {data.duplicated().sum()}')\n",
        "print(f'Percentage of duplicates: {data.duplicated().sum()/len(data)*100}%')"
      ]
    },
    {
      "cell_type": "markdown",
      "metadata": {
        "id": "LZno9wI5r2Sd"
      },
      "source": [
        "There are so many duplicates, they need to be removed. Shape of the dataset will be greatly reduced."
      ]
    },
    {
      "cell_type": "code",
      "execution_count": null,
      "metadata": {
        "id": "uSnp3bN6r2jS"
      },
      "outputs": [],
      "source": [
        "data = data.drop_duplicates()\n"
      ]
    },
    {
      "cell_type": "code",
      "execution_count": null,
      "metadata": {
        "colab": {
          "base_uri": "https://localhost:8080/"
        },
        "id": "mRa4nO_FsQli",
        "outputId": "847d1a42-485f-4c90-8603-dbef4f87bf8b"
      },
      "outputs": [
        {
          "output_type": "stream",
          "name": "stdout",
          "text": [
            "Duplicates in the dataset: 0\n",
            "Percentage of duplicates: 0.0%\n"
          ]
        }
      ],
      "source": [
        "print(f'Duplicates in the dataset: {data.duplicated().sum()}')\n",
        "print(f'Percentage of duplicates: {data.duplicated().sum()/len(data)*100}%')"
      ]
    },
    {
      "cell_type": "code",
      "execution_count": null,
      "metadata": {
        "colab": {
          "base_uri": "https://localhost:8080/"
        },
        "id": "rE6lgCZhsg7C",
        "outputId": "938de979-ed06-49c2-c60f-ad2cf8cd44eb"
      },
      "outputs": [
        {
          "output_type": "stream",
          "name": "stdout",
          "text": [
            "Dataset shape: (4874, 25)\n"
          ]
        }
      ],
      "source": [
        "print(f'Dataset shape: {data.shape}')"
      ]
    },
    {
      "cell_type": "markdown",
      "metadata": {
        "id": "SZvWNtuqtY7i"
      },
      "source": [
        "Almost all features are continuous except for the microorganism which is categorical because it has 10 values"
      ]
    },
    {
      "cell_type": "code",
      "execution_count": null,
      "metadata": {
        "colab": {
          "base_uri": "https://localhost:8080/"
        },
        "id": "JIVz8lYItZIF",
        "outputId": "e7972ae4-daeb-4a2e-c3ec-224e863297ac"
      },
      "outputs": [
        {
          "data": {
            "text/plain": [
              "Solidity            883\n",
              "Eccentricity        247\n",
              "EquivDiameter       953\n",
              "Extrema             750\n",
              "FilledArea         1601\n",
              "Extent             1001\n",
              "Orientation        1075\n",
              "EulerNumber          81\n",
              "BoundingBox1        781\n",
              "BoundingBox2        637\n",
              "BoundingBox3        518\n",
              "BoundingBox4        505\n",
              "ConvexHull1         775\n",
              "ConvexHull2         775\n",
              "ConvexHull3         793\n",
              "ConvexHull4         860\n",
              "MajorAxisLength    1298\n",
              "MinorAxisLength    1286\n",
              "Perimeter          1414\n",
              "ConvexArea         1796\n",
              "Centroid1           976\n",
              "Centroid2           958\n",
              "Area               1525\n",
              "raddi               410\n",
              "microorganisms       10\n",
              "dtype: int64"
            ]
          },
          "execution_count": 14,
          "metadata": {},
          "output_type": "execute_result"
        }
      ],
      "source": [
        "#Cardinality\n",
        "data.nunique()"
      ]
    },
    {
      "cell_type": "markdown",
      "metadata": {
        "id": "MlADpN91mzlZ"
      },
      "source": [
        "Target Values"
      ]
    },
    {
      "cell_type": "code",
      "execution_count": null,
      "metadata": {
        "colab": {
          "base_uri": "https://localhost:8080/",
          "height": 847
        },
        "id": "53bDemOemyOs",
        "outputId": "6631ed16-459d-4259-9f2f-a4d4187916ac"
      },
      "outputs": [
        {
          "output_type": "execute_result",
          "data": {
            "text/plain": [
              "Text(0.5, 1.0, 'Target distribution')"
            ]
          },
          "metadata": {},
          "execution_count": 50
        },
        {
          "output_type": "display_data",
          "data": {
            "text/plain": [
              "<Figure size 1000x1000 with 1 Axes>"
            ],
            "image/png": "[encoded data removed]"
          },
          "metadata": {}
        }
      ],
      "source": [
        "plt.figure(figsize=(10,10))\n",
        "# Pie plot\n",
        "data['microorganisms'].value_counts().plot.pie(autopct='%1.1f%%', textprops={'fontsize':12}).set_title(\"Target distribution\")"
      ]
    },
    {
      "cell_type": "markdown",
      "metadata": {
        "id": "GVY5jtRWwdbz"
      },
      "source": [
        "Label Encoding of microorganism feature"
      ]
    },
    {
      "cell_type": "code",
      "execution_count": null,
      "metadata": {
        "id": "b2LO0d54wdng"
      },
      "outputs": [],
      "source": [
        "encoder = LabelEncoder()\n",
        "data['microorganisms'] = encoder.fit_transform(data['microorganisms'])"
      ]
    },
    {
      "cell_type": "code",
      "execution_count": null,
      "metadata": {
        "colab": {
          "base_uri": "https://localhost:8080/",
          "height": 300
        },
        "id": "-zcZ6TvGw88r",
        "outputId": "3648a7b9-90be-4823-8c90-da4022b2edcb"
      },
      "outputs": [
        {
          "output_type": "execute_result",
          "data": {
            "text/plain": [
              "   Solidity  Eccentricity  EquivDiameter  Extrema  FilledArea  Extent  \\\n",
              "0     10.70          15.8           5.43     3.75       0.785    8.14   \n",
              "1      5.60          18.3           4.14     6.16       0.364    3.51   \n",
              "2      8.32          19.8           4.63     6.66       0.415    5.85   \n",
              "3     10.10          17.9           7.29    11.10       1.470    6.30   \n",
              "4      6.27          20.2          20.10    10.70      14.700    3.97   \n",
              "\n",
              "   Orientation  EulerNumber  BoundingBox1  BoundingBox2  ...  ConvexHull4  \\\n",
              "0         2.15         22.3          2.97         10.90  ...         2.97   \n",
              "1        18.60         22.5          5.41         19.20  ...         5.47   \n",
              "2        21.00         22.4          5.96         10.20  ...         5.96   \n",
              "3         9.94         21.9          8.81         10.70  ...         8.88   \n",
              "4         2.58         11.9         10.20          1.22  ...        10.20   \n",
              "\n",
              "   MajorAxisLength  MinorAxisLength  Perimeter  ConvexArea  Centroid1  \\\n",
              "0             1.34             1.61      0.683       0.195       3.63   \n",
              "1             1.52             1.52      1.010       0.215       6.01   \n",
              "2             1.63             1.38      1.110       0.182       6.55   \n",
              "3             2.04             2.12      0.715       0.371      10.30   \n",
              "4             7.78             6.21      6.800       4.440      14.00   \n",
              "\n",
              "   Centroid2    Area  raddi  microorganisms  \n",
              "0      12.10   1.310   7.99               6  \n",
              "1      20.60   0.765   7.99               6  \n",
              "2      11.50   0.953   7.99               6  \n",
              "3      12.00   2.340   7.99               6  \n",
              "4       9.55  17.600   7.99               6  \n",
              "\n",
              "[5 rows x 25 columns]"
            ],
            "text/html": [
              "\n",
              "  <div id=\"df-fa50d353-f76f-4742-8e4c-042c7f511e5a\">\n",
              "    <div class=\"colab-df-container\">\n",
              "      <div>\n",
              "<style scoped>\n",
              "    .dataframe tbody tr th:only-of-type {\n",
              "        vertical-align: middle;\n",
              "    }\n",
              "\n",
              "    .dataframe tbody tr th {\n",
              "        vertical-align: top;\n",
              "    }\n",
              "\n",
              "    .dataframe thead th {\n",
              "        text-align: right;\n",
              "    }\n",
              "</style>\n",
              "<table border=\"1\" class=\"dataframe\">\n",
              "  <thead>\n",
              "    <tr style=\"text-align: right;\">\n",
              "      <th></th>\n",
              "      <th>Solidity</th>\n",
              "      <th>Eccentricity</th>\n",
              "      <th>EquivDiameter</th>\n",
              "      <th>Extrema</th>\n",
              "      <th>FilledArea</th>\n",
              "      <th>Extent</th>\n",
              "      <th>Orientation</th>\n",
              "      <th>EulerNumber</th>\n",
              "      <th>BoundingBox1</th>\n",
              "      <th>BoundingBox2</th>\n",
              "      <th>...</th>\n",
              "      <th>ConvexHull4</th>\n",
              "      <th>MajorAxisLength</th>\n",
              "      <th>MinorAxisLength</th>\n",
              "      <th>Perimeter</th>\n",
              "      <th>ConvexArea</th>\n",
              "      <th>Centroid1</th>\n",
              "      <th>Centroid2</th>\n",
              "      <th>Area</th>\n",
              "      <th>raddi</th>\n",
              "      <th>microorganisms</th>\n",
              "    </tr>\n",
              "  </thead>\n",
              "  <tbody>\n",
              "    <tr>\n",
              "      <th>0</th>\n",
              "      <td>10.70</td>\n",
              "      <td>15.8</td>\n",
              "      <td>5.43</td>\n",
              "      <td>3.75</td>\n",
              "      <td>0.785</td>\n",
              "      <td>8.14</td>\n",
              "      <td>2.15</td>\n",
              "      <td>22.3</td>\n",
              "      <td>2.97</td>\n",
              "      <td>10.90</td>\n",
              "      <td>...</td>\n",
              "      <td>2.97</td>\n",
              "      <td>1.34</td>\n",
              "      <td>1.61</td>\n",
              "      <td>0.683</td>\n",
              "      <td>0.195</td>\n",
              "      <td>3.63</td>\n",
              "      <td>12.10</td>\n",
              "      <td>1.310</td>\n",
              "      <td>7.99</td>\n",
              "      <td>6</td>\n",
              "    </tr>\n",
              "    <tr>\n",
              "      <th>1</th>\n",
              "      <td>5.60</td>\n",
              "      <td>18.3</td>\n",
              "      <td>4.14</td>\n",
              "      <td>6.16</td>\n",
              "      <td>0.364</td>\n",
              "      <td>3.51</td>\n",
              "      <td>18.60</td>\n",
              "      <td>22.5</td>\n",
              "      <td>5.41</td>\n",
              "      <td>19.20</td>\n",
              "      <td>...</td>\n",
              "      <td>5.47</td>\n",
              "      <td>1.52</td>\n",
              "      <td>1.52</td>\n",
              "      <td>1.010</td>\n",
              "      <td>0.215</td>\n",
              "      <td>6.01</td>\n",
              "      <td>20.60</td>\n",
              "      <td>0.765</td>\n",
              "      <td>7.99</td>\n",
              "      <td>6</td>\n",
              "    </tr>\n",
              "    <tr>\n",
              "      <th>2</th>\n",
              "      <td>8.32</td>\n",
              "      <td>19.8</td>\n",
              "      <td>4.63</td>\n",
              "      <td>6.66</td>\n",
              "      <td>0.415</td>\n",
              "      <td>5.85</td>\n",
              "      <td>21.00</td>\n",
              "      <td>22.4</td>\n",
              "      <td>5.96</td>\n",
              "      <td>10.20</td>\n",
              "      <td>...</td>\n",
              "      <td>5.96</td>\n",
              "      <td>1.63</td>\n",
              "      <td>1.38</td>\n",
              "      <td>1.110</td>\n",
              "      <td>0.182</td>\n",
              "      <td>6.55</td>\n",
              "      <td>11.50</td>\n",
              "      <td>0.953</td>\n",
              "      <td>7.99</td>\n",
              "      <td>6</td>\n",
              "    </tr>\n",
              "    <tr>\n",
              "      <th>3</th>\n",
              "      <td>10.10</td>\n",
              "      <td>17.9</td>\n",
              "      <td>7.29</td>\n",
              "      <td>11.10</td>\n",
              "      <td>1.470</td>\n",
              "      <td>6.30</td>\n",
              "      <td>9.94</td>\n",
              "      <td>21.9</td>\n",
              "      <td>8.81</td>\n",
              "      <td>10.70</td>\n",
              "      <td>...</td>\n",
              "      <td>8.88</td>\n",
              "      <td>2.04</td>\n",
              "      <td>2.12</td>\n",
              "      <td>0.715</td>\n",
              "      <td>0.371</td>\n",
              "      <td>10.30</td>\n",
              "      <td>12.00</td>\n",
              "      <td>2.340</td>\n",
              "      <td>7.99</td>\n",
              "      <td>6</td>\n",
              "    </tr>\n",
              "    <tr>\n",
              "      <th>4</th>\n",
              "      <td>6.27</td>\n",
              "      <td>20.2</td>\n",
              "      <td>20.10</td>\n",
              "      <td>10.70</td>\n",
              "      <td>14.700</td>\n",
              "      <td>3.97</td>\n",
              "      <td>2.58</td>\n",
              "      <td>11.9</td>\n",
              "      <td>10.20</td>\n",
              "      <td>1.22</td>\n",
              "      <td>...</td>\n",
              "      <td>10.20</td>\n",
              "      <td>7.78</td>\n",
              "      <td>6.21</td>\n",
              "      <td>6.800</td>\n",
              "      <td>4.440</td>\n",
              "      <td>14.00</td>\n",
              "      <td>9.55</td>\n",
              "      <td>17.600</td>\n",
              "      <td>7.99</td>\n",
              "      <td>6</td>\n",
              "    </tr>\n",
              "  </tbody>\n",
              "</table>\n",
              "<p>5 rows × 25 columns</p>\n",
              "</div>\n",
              "      <button class=\"colab-df-convert\" onclick=\"convertToInteractive('df-fa50d353-f76f-4742-8e4c-042c7f511e5a')\"\n",
              "              title=\"Convert this dataframe to an interactive table.\"\n",
              "              style=\"display:none;\">\n",
              "        \n",
              "  <svg xmlns=\"http://www.w3.org/2000/svg\" height=\"24px\"viewBox=\"0 0 24 24\"\n",
              "       width=\"24px\">\n",
              "    <path d=\"M0 0h24v24H0V0z\" fill=\"none\"/>\n",
              "    <path d=\"M18.56 5.44l.94 2.06.94-2.06 2.06-.94-2.06-.94-.94-2.06-.94 2.06-2.06.94zm-11 1L8.5 8.5l.94-2.06 2.06-.94-2.06-.94L8.5 2.5l-.94 2.06-2.06.94zm10 10l.94 2.06.94-2.06 2.06-.94-2.06-.94-.94-2.06-.94 2.06-2.06.94z\"/><path d=\"M17.41 7.96l-1.37-1.37c-.4-.4-.92-.59-1.43-.59-.52 0-1.04.2-1.43.59L10.3 9.45l-7.72 7.72c-.78.78-.78 2.05 0 2.83L4 21.41c.39.39.9.59 1.41.59.51 0 1.02-.2 1.41-.59l7.78-7.78 2.81-2.81c.8-.78.8-2.07 0-2.86zM5.41 20L4 18.59l7.72-7.72 1.47 1.35L5.41 20z\"/>\n",
              "  </svg>\n",
              "      </button>\n",
              "      \n",
              "  <style>\n",
              "    .colab-df-container {\n",
              "      display:flex;\n",
              "      flex-wrap:wrap;\n",
              "      gap: 12px;\n",
              "    }\n",
              "\n",
              "    .colab-df-convert {\n",
              "      background-color: #E8F0FE;\n",
              "      border: none;\n",
              "      border-radius: 50%;\n",
              "      cursor: pointer;\n",
              "      display: none;\n",
              "      fill: #1967D2;\n",
              "      height: 32px;\n",
              "      padding: 0 0 0 0;\n",
              "      width: 32px;\n",
              "    }\n",
              "\n",
              "    .colab-df-convert:hover {\n",
              "      background-color: #E2EBFA;\n",
              "      box-shadow: 0px 1px 2px rgba(60, 64, 67, 0.3), 0px 1px 3px 1px rgba(60, 64, 67, 0.15);\n",
              "      fill: #174EA6;\n",
              "    }\n",
              "\n",
              "    [theme=dark] .colab-df-convert {\n",
              "      background-color: #3B4455;\n",
              "      fill: #D2E3FC;\n",
              "    }\n",
              "\n",
              "    [theme=dark] .colab-df-convert:hover {\n",
              "      background-color: #434B5C;\n",
              "      box-shadow: 0px 1px 3px 1px rgba(0, 0, 0, 0.15);\n",
              "      filter: drop-shadow(0px 1px 2px rgba(0, 0, 0, 0.3));\n",
              "      fill: #FFFFFF;\n",
              "    }\n",
              "  </style>\n",
              "\n",
              "      <script>\n",
              "        const buttonEl =\n",
              "          document.querySelector('#df-fa50d353-f76f-4742-8e4c-042c7f511e5a button.colab-df-convert');\n",
              "        buttonEl.style.display =\n",
              "          google.colab.kernel.accessAllowed ? 'block' : 'none';\n",
              "\n",
              "        async function convertToInteractive(key) {\n",
              "          const element = document.querySelector('#df-fa50d353-f76f-4742-8e4c-042c7f511e5a');\n",
              "          const dataTable =\n",
              "            await google.colab.kernel.invokeFunction('convertToInteractive',\n",
              "                                                     [key], {});\n",
              "          if (!dataTable) return;\n",
              "\n",
              "          const docLinkHtml = 'Like what you see? Visit the ' +\n",
              "            '<a target=\"_blank\" href=https://colab.research.google.com/notebooks/data_table.ipynb>data table notebook</a>'\n",
              "            + ' to learn more about interactive tables.';\n",
              "          element.innerHTML = '';\n",
              "          dataTable['output_type'] = 'display_data';\n",
              "          await google.colab.output.renderOutput(dataTable, element);\n",
              "          const docLink = document.createElement('div');\n",
              "          docLink.innerHTML = docLinkHtml;\n",
              "          element.appendChild(docLink);\n",
              "        }\n",
              "      </script>\n",
              "    </div>\n",
              "  </div>\n",
              "  "
            ]
          },
          "metadata": {},
          "execution_count": 53
        }
      ],
      "source": [
        "data.head()"
      ]
    },
    {
      "cell_type": "markdown",
      "metadata": {
        "id": "w7RuOFjVucZl"
      },
      "source": [
        "Correlation between features"
      ]
    },
    {
      "cell_type": "code",
      "execution_count": null,
      "metadata": {
        "colab": {
          "background_save": true
        },
        "id": "KHIn7tfO5Oj5"
      },
      "outputs": [],
      "source": [
        "sns.set(rc={'figure.figsize': (30, 30)})\n",
        "_ = sns.heatmap(data.corr(), annot=True, vmin=-1, vmax=1, center=0).set(title='Correlations between features')"
      ]
    },
    {
      "cell_type": "markdown",
      "metadata": {
        "id": "6IQTOmcJJ_cD"
      },
      "source": [
        "Data Split"
      ]
    },
    {
      "cell_type": "code",
      "execution_count": null,
      "metadata": {
        "id": "GiwZ-msKJ_jk"
      },
      "outputs": [],
      "source": [
        "# X = data.iloc[:, :-1].values\n",
        "# Y = data.iloc[:, -1].values"
      ]
    },
    {
      "cell_type": "code",
      "source": [
        "X= data.drop('microorganisms',axis='columns')\n",
        "Y= data['microorganisms']"
      ],
      "metadata": {
        "id": "1MKKVx_xHyRP"
      },
      "execution_count": null,
      "outputs": []
    },
    {
      "cell_type": "code",
      "source": [
        "Y.value_counts()"
      ],
      "metadata": {
        "colab": {
          "base_uri": "https://localhost:8080/"
        },
        "id": "-wPCZk2CIGif",
        "outputId": "886fe0d9-2668-4ff3-dd4e-71a57dab6300"
      },
      "execution_count": null,
      "outputs": [
        {
          "output_type": "execute_result",
          "data": {
            "text/plain": [
              "7    1631\n",
              "0     864\n",
              "8     540\n",
              "9     540\n",
              "3     324\n",
              "1     270\n",
              "4     216\n",
              "6     179\n",
              "5     175\n",
              "2     135\n",
              "Name: microorganisms, dtype: int64"
            ]
          },
          "metadata": {},
          "execution_count": 14
        }
      ]
    },
    {
      "cell_type": "markdown",
      "source": [
        "Using smote to balance the imbalance data"
      ],
      "metadata": {
        "id": "Pp_G0EWEIQbo"
      }
    },
    {
      "cell_type": "code",
      "source": [
        "from imblearn.over_sampling import SMOTE\n",
        "smote = SMOTE()\n",
        "X_sm, Y_sm = smote.fit_resample(X,Y)\n",
        "Y_sm.value_counts()"
      ],
      "metadata": {
        "colab": {
          "base_uri": "https://localhost:8080/"
        },
        "id": "NeawVZ8SIQs9",
        "outputId": "10089ff7-5f57-4b0d-9692-f6edfc4a4ea1"
      },
      "execution_count": null,
      "outputs": [
        {
          "output_type": "execute_result",
          "data": {
            "text/plain": [
              "6    1631\n",
              "8    1631\n",
              "3    1631\n",
              "9    1631\n",
              "5    1631\n",
              "2    1631\n",
              "0    1631\n",
              "4    1631\n",
              "1    1631\n",
              "7    1631\n",
              "Name: microorganisms, dtype: int64"
            ]
          },
          "metadata": {},
          "execution_count": 26
        }
      ]
    },
    {
      "cell_type": "code",
      "execution_count": null,
      "metadata": {
        "id": "fVJhXVe3KNaO"
      },
      "outputs": [],
      "source": [
        "#X_train, X_test, Y_train, Y_test = train_test_split(X, Y, test_size = 0.20, random_state = 5)"
      ]
    },
    {
      "cell_type": "code",
      "source": [
        "X_train, X_test, Y_train, Y_test = train_test_split(X_sm, Y_sm, test_size = 0.20, random_state = 5, stratify=Y_sm)"
      ],
      "metadata": {
        "id": "LLFt3cEdIpyi"
      },
      "execution_count": null,
      "outputs": []
    },
    {
      "cell_type": "code",
      "execution_count": null,
      "metadata": {
        "colab": {
          "base_uri": "https://localhost:8080/"
        },
        "id": "DJi0lpBuMeB2",
        "outputId": "1d021037-ec63-45c3-d1c1-e75fccb6c5bd"
      },
      "outputs": [
        {
          "output_type": "stream",
          "name": "stdout",
          "text": [
            "[[ 0.73709181  0.58347896  0.12459059 ... -0.39796443 -0.10452246\n",
            "   0.04632708]\n",
            " [-1.39304704  0.95644844  1.35866031 ...  1.10063188  1.0068239\n",
            "   0.29878944]\n",
            " [ 0.62062    -1.25884964 -0.42685108 ... -1.06887356 -0.37142756\n",
            "  -0.98992137]\n",
            " ...\n",
            " [ 1.17624344 -0.94020214 -0.22382522 ... -0.19132576 -0.30105275\n",
            "  -0.02299411]\n",
            " [ 0.25243855  0.86169501  0.35977174 ... -1.18913562  0.05430874\n",
            "   1.06962384]\n",
            " [-1.54748362  0.81959785  0.34502456 ... -0.73333045  0.03636255\n",
            "   0.76745903]]\n"
          ]
        }
      ],
      "source": [
        "print(X_train)"
      ]
    },
    {
      "cell_type": "markdown",
      "metadata": {
        "id": "WA9itu2cMOHR"
      },
      "source": [
        "Features Scaling"
      ]
    },
    {
      "cell_type": "code",
      "execution_count": null,
      "metadata": {
        "id": "NfvUmWgMMNKG"
      },
      "outputs": [],
      "source": [
        "from sklearn.preprocessing import StandardScaler\n",
        "scalar = StandardScaler()\n",
        "\n",
        "#for visitors with patient feature\n",
        "X_train = scalar.fit_transform(X_train)\n",
        "X_test = scalar.transform(X_test)\n"
      ]
    },
    {
      "cell_type": "code",
      "execution_count": null,
      "metadata": {
        "colab": {
          "base_uri": "https://localhost:8080/"
        },
        "id": "5cN2PVekMwlX",
        "outputId": "91879f77-ecce-41f9-dafa-cff1a6acf9b0"
      },
      "outputs": [
        {
          "output_type": "stream",
          "name": "stdout",
          "text": [
            "RandomForsetClassifier\n",
            "88.01\n",
            "KNeighborsClassifier\n",
            "83.45\n"
          ]
        },
        {
          "output_type": "stream",
          "name": "stderr",
          "text": [
            "/usr/local/lib/python3.10/dist-packages/sklearn/linear_model/_logistic.py:458: ConvergenceWarning: lbfgs failed to converge (status=1):\n",
            "STOP: TOTAL NO. of ITERATIONS REACHED LIMIT.\n",
            "\n",
            "Increase the number of iterations (max_iter) or scale the data as shown in:\n",
            "    https://scikit-learn.org/stable/modules/preprocessing.html\n",
            "Please also refer to the documentation for alternative solver options:\n",
            "    https://scikit-learn.org/stable/modules/linear_model.html#logistic-regression\n",
            "  n_iter_i = _check_optimize_result(\n"
          ]
        },
        {
          "output_type": "stream",
          "name": "stdout",
          "text": [
            "LogisticRegression\n",
            "50.03\n",
            "DecisionTreeClassifier\n",
            "73.02\n",
            "GaussianNB\n",
            "23.24\n"
          ]
        }
      ],
      "source": [
        "values= [RandomForestClassifier(), KNeighborsClassifier(), LogisticRegression(), DecisionTreeClassifier(), GaussianNB()]\n",
        "\n",
        "keys= ['RandomForsetClassifier',\n",
        "      'KNeighborsClassifier',\n",
        "       'LogisticRegression',\n",
        "       'DecisionTreeClassifier',\n",
        "       'GaussianNB']\n",
        "\n",
        "models= dict(zip(keys,values))\n",
        "accuracy_scores=[]\n",
        "train_times=[]\n",
        "\n",
        "for key,value in models.items():\n",
        "  t = time()\n",
        "  value.fit(X_train,Y_train)\n",
        "  duration = (time() - t) / 60\n",
        "  Y_pred= value.predict(X_test)\n",
        "  accuracy= accuracy_score(Y_test, Y_pred)\n",
        "  accuracy_scores.append(accuracy)\n",
        "  train_times.append(duration)\n",
        "  print(key)\n",
        "  print(round(accuracy * 100, 2))"
      ]
    },
    {
      "cell_type": "code",
      "execution_count": null,
      "metadata": {
        "id": "zxrhKHSmNNfu"
      },
      "outputs": [],
      "source": [
        "# Modelling\n",
        "from sklearn.ensemble import RandomForestClassifier\n",
        "from sklearn.metrics import accuracy_score, confusion_matrix, precision_score, recall_score, ConfusionMatrixDisplay\n",
        "from sklearn.model_selection import RandomizedSearchCV, train_test_split\n",
        "from scipy.stats import randint\n",
        "\n",
        "# Tree Visualisation\n",
        "from sklearn.tree import export_graphviz\n",
        "from IPython.display import Image\n",
        "import graphviz"
      ]
    },
    {
      "cell_type": "code",
      "execution_count": null,
      "metadata": {
        "id": "tZfG8UJANOYB"
      },
      "outputs": [],
      "source": [
        "from sklearn.model_selection import RandomizedSearchCV"
      ]
    },
    {
      "cell_type": "code",
      "execution_count": null,
      "metadata": {
        "id": "ym-uoQPyGlcC"
      },
      "outputs": [],
      "source": [
        "from sklearn.ensemble import RandomForestClassifier\n",
        "classifier = RandomForestClassifier(n_estimators = 238, max_depth=18, criterion = 'entropy', random_state = 0)\n",
        "classifier.fit(X_train, Y_train)"
      ]
    },
    {
      "cell_type": "code",
      "execution_count": null,
      "metadata": {
        "colab": {
          "base_uri": "https://localhost:8080/",
          "height": 118
        },
        "id": "GUK74-WGNR8e",
        "outputId": "e91b71ba-141c-4f1e-c94f-3090cbc53240"
      },
      "outputs": [
        {
          "output_type": "execute_result",
          "data": {
            "text/plain": [
              "RandomizedSearchCV(cv=5,\n",
              "                   estimator=RandomForestClassifier(criterion='entropy',\n",
              "                                                    max_depth=18,\n",
              "                                                    n_estimators=238,\n",
              "                                                    random_state=0),\n",
              "                   n_iter=5,\n",
              "                   param_distributions={'max_depth': <scipy.stats._distn_infrastructure.rv_discrete_frozen object at 0x7f5169c45870>,\n",
              "                                        'n_estimators': <scipy.stats._distn_infrastructure.rv_discrete_frozen object at 0x7f5169c66860>})"
            ],
            "text/html": [
              "<style>#sk-container-id-1 {color: black;background-color: white;}#sk-container-id-1 pre{padding: 0;}#sk-container-id-1 div.sk-toggleable {background-color: white;}#sk-container-id-1 label.sk-toggleable__label {cursor: pointer;display: block;width: 100%;margin-bottom: 0;padding: 0.3em;box-sizing: border-box;text-align: center;}#sk-container-id-1 label.sk-toggleable__label-arrow:before {content: \"▸\";float: left;margin-right: 0.25em;color: #696969;}#sk-container-id-1 label.sk-toggleable__label-arrow:hover:before {color: black;}#sk-container-id-1 div.sk-estimator:hover label.sk-toggleable__label-arrow:before {color: black;}#sk-container-id-1 div.sk-toggleable__content {max-height: 0;max-width: 0;overflow: hidden;text-align: left;background-color: #f0f8ff;}#sk-container-id-1 div.sk-toggleable__content pre {margin: 0.2em;color: black;border-radius: 0.25em;background-color: #f0f8ff;}#sk-container-id-1 input.sk-toggleable__control:checked~div.sk-toggleable__content {max-height: 200px;max-width: 100%;overflow: auto;}#sk-container-id-1 input.sk-toggleable__control:checked~label.sk-toggleable__label-arrow:before {content: \"▾\";}#sk-container-id-1 div.sk-estimator input.sk-toggleable__control:checked~label.sk-toggleable__label {background-color: #d4ebff;}#sk-container-id-1 div.sk-label input.sk-toggleable__control:checked~label.sk-toggleable__label {background-color: #d4ebff;}#sk-container-id-1 input.sk-hidden--visually {border: 0;clip: rect(1px 1px 1px 1px);clip: rect(1px, 1px, 1px, 1px);height: 1px;margin: -1px;overflow: hidden;padding: 0;position: absolute;width: 1px;}#sk-container-id-1 div.sk-estimator {font-family: monospace;background-color: #f0f8ff;border: 1px dotted black;border-radius: 0.25em;box-sizing: border-box;margin-bottom: 0.5em;}#sk-container-id-1 div.sk-estimator:hover {background-color: #d4ebff;}#sk-container-id-1 div.sk-parallel-item::after {content: \"\";width: 100%;border-bottom: 1px solid gray;flex-grow: 1;}#sk-container-id-1 div.sk-label:hover label.sk-toggleable__label {background-color: #d4ebff;}#sk-container-id-1 div.sk-serial::before {content: \"\";position: absolute;border-left: 1px solid gray;box-sizing: border-box;top: 0;bottom: 0;left: 50%;z-index: 0;}#sk-container-id-1 div.sk-serial {display: flex;flex-direction: column;align-items: center;background-color: white;padding-right: 0.2em;padding-left: 0.2em;position: relative;}#sk-container-id-1 div.sk-item {position: relative;z-index: 1;}#sk-container-id-1 div.sk-parallel {display: flex;align-items: stretch;justify-content: center;background-color: white;position: relative;}#sk-container-id-1 div.sk-item::before, #sk-container-id-1 div.sk-parallel-item::before {content: \"\";position: absolute;border-left: 1px solid gray;box-sizing: border-box;top: 0;bottom: 0;left: 50%;z-index: -1;}#sk-container-id-1 div.sk-parallel-item {display: flex;flex-direction: column;z-index: 1;position: relative;background-color: white;}#sk-container-id-1 div.sk-parallel-item:first-child::after {align-self: flex-end;width: 50%;}#sk-container-id-1 div.sk-parallel-item:last-child::after {align-self: flex-start;width: 50%;}#sk-container-id-1 div.sk-parallel-item:only-child::after {width: 0;}#sk-container-id-1 div.sk-dashed-wrapped {border: 1px dashed gray;margin: 0 0.4em 0.5em 0.4em;box-sizing: border-box;padding-bottom: 0.4em;background-color: white;}#sk-container-id-1 div.sk-label label {font-family: monospace;font-weight: bold;display: inline-block;line-height: 1.2em;}#sk-container-id-1 div.sk-label-container {text-align: center;}#sk-container-id-1 div.sk-container {/* jupyter's `normalize.less` sets `[hidden] { display: none; }` but bootstrap.min.css set `[hidden] { display: none !important; }` so we also need the `!important` here to be able to override the default hidden behavior on the sphinx rendered scikit-learn.org. See: https://github.com/scikit-learn/scikit-learn/issues/21755 */display: inline-block !important;position: relative;}#sk-container-id-1 div.sk-text-repr-fallback {display: none;}</style><div id=\"sk-container-id-1\" class=\"sk-top-container\"><div class=\"sk-text-repr-fallback\"><pre>RandomizedSearchCV(cv=5,\n",
              "                   estimator=RandomForestClassifier(criterion=&#x27;entropy&#x27;,\n",
              "                                                    max_depth=18,\n",
              "                                                    n_estimators=238,\n",
              "                                                    random_state=0),\n",
              "                   n_iter=5,\n",
              "                   param_distributions={&#x27;max_depth&#x27;: &lt;scipy.stats._distn_infrastructure.rv_discrete_frozen object at 0x7f5169c45870&gt;,\n",
              "                                        &#x27;n_estimators&#x27;: &lt;scipy.stats._distn_infrastructure.rv_discrete_frozen object at 0x7f5169c66860&gt;})</pre><b>In a Jupyter environment, please rerun this cell to show the HTML representation or trust the notebook. <br />On GitHub, the HTML representation is unable to render, please try loading this page with nbviewer.org.</b></div><div class=\"sk-container\" hidden><div class=\"sk-item sk-dashed-wrapped\"><div class=\"sk-label-container\"><div class=\"sk-label sk-toggleable\"><input class=\"sk-toggleable__control sk-hidden--visually\" id=\"sk-estimator-id-1\" type=\"checkbox\" ><label for=\"sk-estimator-id-1\" class=\"sk-toggleable__label sk-toggleable__label-arrow\">RandomizedSearchCV</label><div class=\"sk-toggleable__content\"><pre>RandomizedSearchCV(cv=5,\n",
              "                   estimator=RandomForestClassifier(criterion=&#x27;entropy&#x27;,\n",
              "                                                    max_depth=18,\n",
              "                                                    n_estimators=238,\n",
              "                                                    random_state=0),\n",
              "                   n_iter=5,\n",
              "                   param_distributions={&#x27;max_depth&#x27;: &lt;scipy.stats._distn_infrastructure.rv_discrete_frozen object at 0x7f5169c45870&gt;,\n",
              "                                        &#x27;n_estimators&#x27;: &lt;scipy.stats._distn_infrastructure.rv_discrete_frozen object at 0x7f5169c66860&gt;})</pre></div></div></div><div class=\"sk-parallel\"><div class=\"sk-parallel-item\"><div class=\"sk-item\"><div class=\"sk-label-container\"><div class=\"sk-label sk-toggleable\"><input class=\"sk-toggleable__control sk-hidden--visually\" id=\"sk-estimator-id-2\" type=\"checkbox\" ><label for=\"sk-estimator-id-2\" class=\"sk-toggleable__label sk-toggleable__label-arrow\">estimator: RandomForestClassifier</label><div class=\"sk-toggleable__content\"><pre>RandomForestClassifier(criterion=&#x27;entropy&#x27;, max_depth=18, n_estimators=238,\n",
              "                       random_state=0)</pre></div></div></div><div class=\"sk-serial\"><div class=\"sk-item\"><div class=\"sk-estimator sk-toggleable\"><input class=\"sk-toggleable__control sk-hidden--visually\" id=\"sk-estimator-id-3\" type=\"checkbox\" ><label for=\"sk-estimator-id-3\" class=\"sk-toggleable__label sk-toggleable__label-arrow\">RandomForestClassifier</label><div class=\"sk-toggleable__content\"><pre>RandomForestClassifier(criterion=&#x27;entropy&#x27;, max_depth=18, n_estimators=238,\n",
              "                       random_state=0)</pre></div></div></div></div></div></div></div></div></div></div>"
            ]
          },
          "metadata": {},
          "execution_count": 19
        }
      ],
      "source": [
        "\n",
        "param_dist = {'n_estimators': randint(50, 500),\n",
        "              'max_depth': randint(1,20)}\n",
        "\n",
        "# Use random search to find the best hyperparameters\n",
        "rand_search = RandomizedSearchCV(classifier,\n",
        "                                 param_distributions = param_dist,\n",
        "                                 n_iter=5,\n",
        "                                 cv=5)\n",
        "\n",
        "# Fit the random search object to the data\n",
        "rand_search.fit(X_train, Y_train)"
      ]
    },
    {
      "cell_type": "code",
      "execution_count": null,
      "metadata": {
        "colab": {
          "base_uri": "https://localhost:8080/"
        },
        "id": "KqljAhsQQdED",
        "outputId": "f5e762df-3fa9-4215-d1ae-3afcb754b911"
      },
      "outputs": [
        {
          "output_type": "stream",
          "name": "stdout",
          "text": [
            "Best hyperparameters: {'max_depth': 16, 'n_estimators': 202}\n"
          ]
        }
      ],
      "source": [
        "# Create a variable for the best model\n",
        "best_rf = rand_search.best_estimator_\n",
        "\n",
        "# Print the best hyperparameters\n",
        "print('Best hyperparameters:',  rand_search.best_params_)"
      ]
    },
    {
      "cell_type": "code",
      "execution_count": null,
      "metadata": {
        "colab": {
          "base_uri": "https://localhost:8080/",
          "height": 92
        },
        "id": "Mi2gkj3lQ2fO",
        "outputId": "be9c32a6-1861-4d8f-8b87-70117cb1de27"
      },
      "outputs": [
        {
          "output_type": "execute_result",
          "data": {
            "text/plain": [
              "RandomForestClassifier(criterion='entropy', max_depth=16, n_estimators=202,\n",
              "                       random_state=0)"
            ],
            "text/html": [
              "<style>#sk-container-id-5 {color: black;background-color: white;}#sk-container-id-5 pre{padding: 0;}#sk-container-id-5 div.sk-toggleable {background-color: white;}#sk-container-id-5 label.sk-toggleable__label {cursor: pointer;display: block;width: 100%;margin-bottom: 0;padding: 0.3em;box-sizing: border-box;text-align: center;}#sk-container-id-5 label.sk-toggleable__label-arrow:before {content: \"▸\";float: left;margin-right: 0.25em;color: #696969;}#sk-container-id-5 label.sk-toggleable__label-arrow:hover:before {color: black;}#sk-container-id-5 div.sk-estimator:hover label.sk-toggleable__label-arrow:before {color: black;}#sk-container-id-5 div.sk-toggleable__content {max-height: 0;max-width: 0;overflow: hidden;text-align: left;background-color: #f0f8ff;}#sk-container-id-5 div.sk-toggleable__content pre {margin: 0.2em;color: black;border-radius: 0.25em;background-color: #f0f8ff;}#sk-container-id-5 input.sk-toggleable__control:checked~div.sk-toggleable__content {max-height: 200px;max-width: 100%;overflow: auto;}#sk-container-id-5 input.sk-toggleable__control:checked~label.sk-toggleable__label-arrow:before {content: \"▾\";}#sk-container-id-5 div.sk-estimator input.sk-toggleable__control:checked~label.sk-toggleable__label {background-color: #d4ebff;}#sk-container-id-5 div.sk-label input.sk-toggleable__control:checked~label.sk-toggleable__label {background-color: #d4ebff;}#sk-container-id-5 input.sk-hidden--visually {border: 0;clip: rect(1px 1px 1px 1px);clip: rect(1px, 1px, 1px, 1px);height: 1px;margin: -1px;overflow: hidden;padding: 0;position: absolute;width: 1px;}#sk-container-id-5 div.sk-estimator {font-family: monospace;background-color: #f0f8ff;border: 1px dotted black;border-radius: 0.25em;box-sizing: border-box;margin-bottom: 0.5em;}#sk-container-id-5 div.sk-estimator:hover {background-color: #d4ebff;}#sk-container-id-5 div.sk-parallel-item::after {content: \"\";width: 100%;border-bottom: 1px solid gray;flex-grow: 1;}#sk-container-id-5 div.sk-label:hover label.sk-toggleable__label {background-color: #d4ebff;}#sk-container-id-5 div.sk-serial::before {content: \"\";position: absolute;border-left: 1px solid gray;box-sizing: border-box;top: 0;bottom: 0;left: 50%;z-index: 0;}#sk-container-id-5 div.sk-serial {display: flex;flex-direction: column;align-items: center;background-color: white;padding-right: 0.2em;padding-left: 0.2em;position: relative;}#sk-container-id-5 div.sk-item {position: relative;z-index: 1;}#sk-container-id-5 div.sk-parallel {display: flex;align-items: stretch;justify-content: center;background-color: white;position: relative;}#sk-container-id-5 div.sk-item::before, #sk-container-id-5 div.sk-parallel-item::before {content: \"\";position: absolute;border-left: 1px solid gray;box-sizing: border-box;top: 0;bottom: 0;left: 50%;z-index: -1;}#sk-container-id-5 div.sk-parallel-item {display: flex;flex-direction: column;z-index: 1;position: relative;background-color: white;}#sk-container-id-5 div.sk-parallel-item:first-child::after {align-self: flex-end;width: 50%;}#sk-container-id-5 div.sk-parallel-item:last-child::after {align-self: flex-start;width: 50%;}#sk-container-id-5 div.sk-parallel-item:only-child::after {width: 0;}#sk-container-id-5 div.sk-dashed-wrapped {border: 1px dashed gray;margin: 0 0.4em 0.5em 0.4em;box-sizing: border-box;padding-bottom: 0.4em;background-color: white;}#sk-container-id-5 div.sk-label label {font-family: monospace;font-weight: bold;display: inline-block;line-height: 1.2em;}#sk-container-id-5 div.sk-label-container {text-align: center;}#sk-container-id-5 div.sk-container {/* jupyter's `normalize.less` sets `[hidden] { display: none; }` but bootstrap.min.css set `[hidden] { display: none !important; }` so we also need the `!important` here to be able to override the default hidden behavior on the sphinx rendered scikit-learn.org. See: https://github.com/scikit-learn/scikit-learn/issues/21755 */display: inline-block !important;position: relative;}#sk-container-id-5 div.sk-text-repr-fallback {display: none;}</style><div id=\"sk-container-id-5\" class=\"sk-top-container\"><div class=\"sk-text-repr-fallback\"><pre>RandomForestClassifier(criterion=&#x27;entropy&#x27;, max_depth=16, n_estimators=202,\n",
              "                       random_state=0)</pre><b>In a Jupyter environment, please rerun this cell to show the HTML representation or trust the notebook. <br />On GitHub, the HTML representation is unable to render, please try loading this page with nbviewer.org.</b></div><div class=\"sk-container\" hidden><div class=\"sk-item\"><div class=\"sk-estimator sk-toggleable\"><input class=\"sk-toggleable__control sk-hidden--visually\" id=\"sk-estimator-id-7\" type=\"checkbox\" checked><label for=\"sk-estimator-id-7\" class=\"sk-toggleable__label sk-toggleable__label-arrow\">RandomForestClassifier</label><div class=\"sk-toggleable__content\"><pre>RandomForestClassifier(criterion=&#x27;entropy&#x27;, max_depth=16, n_estimators=202,\n",
              "                       random_state=0)</pre></div></div></div></div></div>"
            ]
          },
          "metadata": {},
          "execution_count": 71
        }
      ],
      "source": [
        "from sklearn.ensemble import RandomForestClassifier\n",
        "classifier = RandomForestClassifier(n_estimators = 202, max_depth=16, criterion = 'entropy',random_state = 0)\n",
        "classifier.fit(X_train, Y_train)"
      ]
    },
    {
      "cell_type": "code",
      "execution_count": null,
      "metadata": {
        "id": "zPYAidZhF0Jh"
      },
      "outputs": [],
      "source": [
        "y_pred = classifier.predict(X_test)\n",
        "#print(np.concatenate((y_pred.reshape(len(y_pred),1), Y_test.reshape(len(Y_test),1)),1))"
      ]
    },
    {
      "cell_type": "code",
      "execution_count": null,
      "metadata": {
        "colab": {
          "base_uri": "https://localhost:8080/"
        },
        "id": "EUiqBRKgFmbI",
        "outputId": "bb78bca4-2a64-420d-8ecb-3d8d9eaa4989"
      },
      "outputs": [
        {
          "output_type": "stream",
          "name": "stdout",
          "text": [
            "Accuracy: 87.68%\n"
          ]
        }
      ],
      "source": [
        "# Evaluate the model's accuracy\n",
        "accuracy = accuracy_score(Y_test, y_pred)\n",
        "print(\"Accuracy: %.2f%%\" % (accuracy * 100.0))"
      ]
    },
    {
      "cell_type": "code",
      "execution_count": null,
      "metadata": {
        "colab": {
          "base_uri": "https://localhost:8080/",
          "height": 449
        },
        "id": "EZaW5-PlQ7m1",
        "outputId": "e93578d8-efb5-46da-d86a-76785d0e216e"
      },
      "outputs": [
        {
          "output_type": "display_data",
          "data": {
            "text/plain": [
              "<Figure size 640x480 with 2 Axes>"
            ],
            "image/png": "[encoded data removed]"
          },
          "metadata": {}
        }
      ],
      "source": [
        "from sklearn.metrics import confusion_matrix, accuracy_score\n",
        "cm = confusion_matrix(Y_test, y_pred)\n",
        "ConfusionMatrixDisplay(confusion_matrix=cm).plot();"
      ]
    },
    {
      "cell_type": "markdown",
      "metadata": {
        "id": "zqUr2VKzu6Rh"
      },
      "source": [
        "XG Boost"
      ]
    },
    {
      "cell_type": "code",
      "execution_count": null,
      "metadata": {
        "id": "fhdgDHsSu6gM"
      },
      "outputs": [],
      "source": [
        "# Define the XGBoost classifier and set hyperparameters\n",
        "model = xgb.XGBClassifier(\n",
        "    max_depth=3,\n",
        "    n_estimators=1000,\n",
        "    learning_rate=0.1,\n",
        "    objective='multi:softmax',\n",
        "    num_class=10,\n",
        "    random_state=42\n",
        ")"
      ]
    },
    {
      "cell_type": "code",
      "execution_count": null,
      "metadata": {
        "id": "c7XQcjy_vSjA",
        "colab": {
          "base_uri": "https://localhost:8080/",
          "height": 248
        },
        "outputId": "19c3f3f1-7d58-48ef-8dfd-a9befe854e5b"
      },
      "outputs": [
        {
          "output_type": "execute_result",
          "data": {
            "text/plain": [
              "XGBClassifier(base_score=None, booster=None, callbacks=None,\n",
              "              colsample_bylevel=None, colsample_bynode=None,\n",
              "              colsample_bytree=None, early_stopping_rounds=None,\n",
              "              enable_categorical=False, eval_metric=None, feature_types=None,\n",
              "              gamma=None, gpu_id=None, grow_policy=None, importance_type=None,\n",
              "              interaction_constraints=None, learning_rate=0.1, max_bin=None,\n",
              "              max_cat_threshold=None, max_cat_to_onehot=None,\n",
              "              max_delta_step=None, max_depth=3, max_leaves=None,\n",
              "              min_child_weight=None, missing=nan, monotone_constraints=None,\n",
              "              n_estimators=1000, n_jobs=None, num_class=10,\n",
              "              num_parallel_tree=None, objective='multi:softmax', ...)"
            ],
            "text/html": [
              "<style>#sk-container-id-1 {color: black;background-color: white;}#sk-container-id-1 pre{padding: 0;}#sk-container-id-1 div.sk-toggleable {background-color: white;}#sk-container-id-1 label.sk-toggleable__label {cursor: pointer;display: block;width: 100%;margin-bottom: 0;padding: 0.3em;box-sizing: border-box;text-align: center;}#sk-container-id-1 label.sk-toggleable__label-arrow:before {content: \"▸\";float: left;margin-right: 0.25em;color: #696969;}#sk-container-id-1 label.sk-toggleable__label-arrow:hover:before {color: black;}#sk-container-id-1 div.sk-estimator:hover label.sk-toggleable__label-arrow:before {color: black;}#sk-container-id-1 div.sk-toggleable__content {max-height: 0;max-width: 0;overflow: hidden;text-align: left;background-color: #f0f8ff;}#sk-container-id-1 div.sk-toggleable__content pre {margin: 0.2em;color: black;border-radius: 0.25em;background-color: #f0f8ff;}#sk-container-id-1 input.sk-toggleable__control:checked~div.sk-toggleable__content {max-height: 200px;max-width: 100%;overflow: auto;}#sk-container-id-1 input.sk-toggleable__control:checked~label.sk-toggleable__label-arrow:before {content: \"▾\";}#sk-container-id-1 div.sk-estimator input.sk-toggleable__control:checked~label.sk-toggleable__label {background-color: #d4ebff;}#sk-container-id-1 div.sk-label input.sk-toggleable__control:checked~label.sk-toggleable__label {background-color: #d4ebff;}#sk-container-id-1 input.sk-hidden--visually {border: 0;clip: rect(1px 1px 1px 1px);clip: rect(1px, 1px, 1px, 1px);height: 1px;margin: -1px;overflow: hidden;padding: 0;position: absolute;width: 1px;}#sk-container-id-1 div.sk-estimator {font-family: monospace;background-color: #f0f8ff;border: 1px dotted black;border-radius: 0.25em;box-sizing: border-box;margin-bottom: 0.5em;}#sk-container-id-1 div.sk-estimator:hover {background-color: #d4ebff;}#sk-container-id-1 div.sk-parallel-item::after {content: \"\";width: 100%;border-bottom: 1px solid gray;flex-grow: 1;}#sk-container-id-1 div.sk-label:hover label.sk-toggleable__label {background-color: #d4ebff;}#sk-container-id-1 div.sk-serial::before {content: \"\";position: absolute;border-left: 1px solid gray;box-sizing: border-box;top: 0;bottom: 0;left: 50%;z-index: 0;}#sk-container-id-1 div.sk-serial {display: flex;flex-direction: column;align-items: center;background-color: white;padding-right: 0.2em;padding-left: 0.2em;position: relative;}#sk-container-id-1 div.sk-item {position: relative;z-index: 1;}#sk-container-id-1 div.sk-parallel {display: flex;align-items: stretch;justify-content: center;background-color: white;position: relative;}#sk-container-id-1 div.sk-item::before, #sk-container-id-1 div.sk-parallel-item::before {content: \"\";position: absolute;border-left: 1px solid gray;box-sizing: border-box;top: 0;bottom: 0;left: 50%;z-index: -1;}#sk-container-id-1 div.sk-parallel-item {display: flex;flex-direction: column;z-index: 1;position: relative;background-color: white;}#sk-container-id-1 div.sk-parallel-item:first-child::after {align-self: flex-end;width: 50%;}#sk-container-id-1 div.sk-parallel-item:last-child::after {align-self: flex-start;width: 50%;}#sk-container-id-1 div.sk-parallel-item:only-child::after {width: 0;}#sk-container-id-1 div.sk-dashed-wrapped {border: 1px dashed gray;margin: 0 0.4em 0.5em 0.4em;box-sizing: border-box;padding-bottom: 0.4em;background-color: white;}#sk-container-id-1 div.sk-label label {font-family: monospace;font-weight: bold;display: inline-block;line-height: 1.2em;}#sk-container-id-1 div.sk-label-container {text-align: center;}#sk-container-id-1 div.sk-container {/* jupyter's `normalize.less` sets `[hidden] { display: none; }` but bootstrap.min.css set `[hidden] { display: none !important; }` so we also need the `!important` here to be able to override the default hidden behavior on the sphinx rendered scikit-learn.org. See: https://github.com/scikit-learn/scikit-learn/issues/21755 */display: inline-block !important;position: relative;}#sk-container-id-1 div.sk-text-repr-fallback {display: none;}</style><div id=\"sk-container-id-1\" class=\"sk-top-container\"><div class=\"sk-text-repr-fallback\"><pre>XGBClassifier(base_score=None, booster=None, callbacks=None,\n",
              "              colsample_bylevel=None, colsample_bynode=None,\n",
              "              colsample_bytree=None, early_stopping_rounds=None,\n",
              "              enable_categorical=False, eval_metric=None, feature_types=None,\n",
              "              gamma=None, gpu_id=None, grow_policy=None, importance_type=None,\n",
              "              interaction_constraints=None, learning_rate=0.1, max_bin=None,\n",
              "              max_cat_threshold=None, max_cat_to_onehot=None,\n",
              "              max_delta_step=None, max_depth=3, max_leaves=None,\n",
              "              min_child_weight=None, missing=nan, monotone_constraints=None,\n",
              "              n_estimators=1000, n_jobs=None, num_class=10,\n",
              "              num_parallel_tree=None, objective=&#x27;multi:softmax&#x27;, ...)</pre><b>In a Jupyter environment, please rerun this cell to show the HTML representation or trust the notebook. <br />On GitHub, the HTML representation is unable to render, please try loading this page with nbviewer.org.</b></div><div class=\"sk-container\" hidden><div class=\"sk-item\"><div class=\"sk-estimator sk-toggleable\"><input class=\"sk-toggleable__control sk-hidden--visually\" id=\"sk-estimator-id-1\" type=\"checkbox\" checked><label for=\"sk-estimator-id-1\" class=\"sk-toggleable__label sk-toggleable__label-arrow\">XGBClassifier</label><div class=\"sk-toggleable__content\"><pre>XGBClassifier(base_score=None, booster=None, callbacks=None,\n",
              "              colsample_bylevel=None, colsample_bynode=None,\n",
              "              colsample_bytree=None, early_stopping_rounds=None,\n",
              "              enable_categorical=False, eval_metric=None, feature_types=None,\n",
              "              gamma=None, gpu_id=None, grow_policy=None, importance_type=None,\n",
              "              interaction_constraints=None, learning_rate=0.1, max_bin=None,\n",
              "              max_cat_threshold=None, max_cat_to_onehot=None,\n",
              "              max_delta_step=None, max_depth=3, max_leaves=None,\n",
              "              min_child_weight=None, missing=nan, monotone_constraints=None,\n",
              "              n_estimators=1000, n_jobs=None, num_class=10,\n",
              "              num_parallel_tree=None, objective=&#x27;multi:softmax&#x27;, ...)</pre></div></div></div></div></div>"
            ]
          },
          "metadata": {},
          "execution_count": 19
        }
      ],
      "source": [
        "# Fit the model to the training data\n",
        "model.fit(X_train,Y_train)"
      ]
    },
    {
      "cell_type": "code",
      "execution_count": null,
      "metadata": {
        "colab": {
          "base_uri": "https://localhost:8080/"
        },
        "id": "yehF4QX-vV9n",
        "outputId": "96ce45cc-fc02-4460-f005-8262a019975d"
      },
      "outputs": [
        {
          "output_type": "stream",
          "name": "stdout",
          "text": [
            "Accuracy: 85.38%\n"
          ]
        }
      ],
      "source": [
        "# Make predictions on the testing data\n",
        "y_pred = model.predict(X_test)\n",
        "\n",
        "# Evaluate the model's accuracy\n",
        "accuracy = accuracy_score(Y_test, y_pred)\n",
        "print(\"Accuracy: %.2f%%\" % (accuracy * 100.0))"
      ]
    },
    {
      "cell_type": "code",
      "execution_count": null,
      "metadata": {
        "colab": {
          "background_save": true
        },
        "id": "ICcNH1vM3dt7"
      },
      "outputs": [],
      "source": [
        "from sklearn.metrics import confusion_matrix, accuracy_score\n",
        "cm = confusion_matrix(Y_test, y_pred)\n",
        "ConfusionMatrixDisplay(confusion_matrix=cm).plot();"
      ]
    },
    {
      "cell_type": "code",
      "source": [
        "print(model.feature_importances_)"
      ],
      "metadata": {
        "id": "NLTTTKF7FkxG",
        "colab": {
          "base_uri": "https://localhost:8080/"
        },
        "outputId": "48206b97-30e5-483f-bf90-510da168fd5c"
      },
      "execution_count": null,
      "outputs": [
        {
          "output_type": "stream",
          "name": "stdout",
          "text": [
            "[0.05460461 0.05325981 0.0448666  0.02636362 0.05276935 0.03822639\n",
            " 0.02767118 0.05691626 0.02831107 0.02404075 0.02968542 0.03353745\n",
            " 0.02761566 0.         0.02990222 0.02630359 0.03877863 0.03728856\n",
            " 0.06530401 0.13105828 0.02532838 0.02550505 0.03551458 0.08714855]\n"
          ]
        }
      ]
    },
    {
      "cell_type": "code",
      "source": [
        "# plot feature importance\n",
        "plot_importance(model)\n",
        "pyplot.show()"
      ],
      "metadata": {
        "id": "DLf13JE0IrJu"
      },
      "execution_count": null,
      "outputs": []
    },
    {
      "cell_type": "code",
      "source": [
        "# Fit model using each importance as a threshold\n",
        "thresholds = sort(model.feature_importances_)\n"
      ],
      "metadata": {
        "id": "A5nYTfqq_9g6"
      },
      "execution_count": null,
      "outputs": []
    },
    {
      "cell_type": "code",
      "source": [
        "for thresh in thresholds:\n",
        "  # select features using threshold\n",
        "  selection = SelectFromModel(model, threshold=thresh, prefit=True)\n",
        "  select_X_train = selection.transform(X_train)\n",
        "  # train model\n",
        "  selection_model = xgb.XGBClassifier(\n",
        "    max_depth=3,\n",
        "    n_estimators=1000,\n",
        "    learning_rate=0.1,\n",
        "    objective='multi:softmax',\n",
        "    num_class=10,\n",
        "    random_state=42\n",
        "                                    )\n",
        "  selection_model.fit(select_X_train, Y_train)\n",
        "  # eval model\n",
        "  select_X_test = selection.transform(X_test)\n",
        "  y_pred = selection_model.predict(select_X_test)\n",
        "  accuracy = accuracy_score(Y_test, y_pred)\n",
        "  print(\"Thresh=%.3f, n=%d, Accuracy: %.2f%%\" % (thresh, select_X_train.shape[1], accuracy*100.0))"
      ],
      "metadata": {
        "colab": {
          "base_uri": "https://localhost:8080/"
        },
        "id": "9L5qCCb4AcRR",
        "outputId": "e6a85728-6e69-4d23-c74d-42ab511c7b77"
      },
      "execution_count": null,
      "outputs": [
        {
          "output_type": "stream",
          "name": "stdout",
          "text": [
            "Thresh=0.000, n=24, Accuracy: 85.38%\n",
            "Thresh=0.024, n=23, Accuracy: 85.38%\n",
            "Thresh=0.025, n=22, Accuracy: 85.68%\n",
            "Thresh=0.026, n=21, Accuracy: 85.53%\n",
            "Thresh=0.026, n=20, Accuracy: 84.06%\n",
            "Thresh=0.026, n=19, Accuracy: 84.27%\n",
            "Thresh=0.028, n=18, Accuracy: 83.51%\n",
            "Thresh=0.028, n=17, Accuracy: 83.08%\n",
            "Thresh=0.028, n=16, Accuracy: 82.10%\n",
            "Thresh=0.030, n=15, Accuracy: 81.91%\n",
            "Thresh=0.030, n=14, Accuracy: 82.10%\n",
            "Thresh=0.034, n=13, Accuracy: 79.46%\n",
            "Thresh=0.036, n=12, Accuracy: 78.08%\n",
            "Thresh=0.037, n=11, Accuracy: 78.02%\n",
            "Thresh=0.038, n=10, Accuracy: 77.90%\n",
            "Thresh=0.039, n=9, Accuracy: 76.15%\n",
            "Thresh=0.045, n=8, Accuracy: 75.32%\n",
            "Thresh=0.053, n=7, Accuracy: 75.11%\n",
            "Thresh=0.053, n=6, Accuracy: 74.00%\n",
            "Thresh=0.055, n=5, Accuracy: 69.93%\n",
            "Thresh=0.057, n=4, Accuracy: 66.22%\n",
            "Thresh=0.065, n=3, Accuracy: 61.28%\n",
            "Thresh=0.087, n=2, Accuracy: 56.19%\n",
            "Thresh=0.131, n=1, Accuracy: 28.02%\n"
          ]
        }
      ]
    },
    {
      "cell_type": "code",
      "source": [
        "# Use feature selection to select the most important features\n",
        "selector = SelectFromModel(model, threshold=0.025, prefit=True)\n",
        "X_train_new_1 = selector.transform(X_train)\n",
        "X_test_new_1 = selector.transform(X_test)\n",
        "\n",
        "# Fit the model to the selected features\n",
        "model.fit(X_train_new_1, Y_train)\n",
        "y_pred = model.predict(X_test_new_1)\n",
        "\n",
        "# Evaluate the model's accuracy\n",
        "accuracy = accuracy_score(Y_test, y_pred)\n",
        "print(\"Accuracy: %.2f%%\" % (accuracy * 100.0))"
      ],
      "metadata": {
        "id": "Zxj1OjKlKKpJ"
      },
      "execution_count": null,
      "outputs": []
    },
    {
      "cell_type": "markdown",
      "source": [
        "SVM"
      ],
      "metadata": {
        "id": "QbzWCRD6hIds"
      }
    },
    {
      "cell_type": "code",
      "source": [
        "from sklearn.svm import SVC\n",
        "\n",
        "# we can add class_weight='balanced' to add panalize mistake\n",
        "svc_model = SVC(class_weight='balanced', probability=True)\n",
        "\n",
        "svc_model.fit(X_train, Y_train)\n",
        "\n",
        "svc_predict = svc_model.predict(X_test)# check performance\n",
        "#print('ROCAUC score:',roc_auc_score(Y_test, svc_predict))\n",
        "print('Accuracy score:',accuracy_score(Y_test, svc_predict))\n",
        "#print('F1 score:',f1_score(Y_test, svc_predict))"
      ],
      "metadata": {
        "colab": {
          "base_uri": "https://localhost:8080/"
        },
        "id": "Yu3IjVQGhH4O",
        "outputId": "890a2701-538f-4150-8e27-cae40b165571"
      },
      "execution_count": null,
      "outputs": [
        {
          "output_type": "stream",
          "name": "stdout",
          "text": [
            "Accuracy score: 0.6468424279583078\n"
          ]
        }
      ]
    },
    {
      "cell_type": "markdown",
      "source": [
        "MLP"
      ],
      "metadata": {
        "id": "fv10omxBifNL"
      }
    },
    {
      "cell_type": "code",
      "source": [
        "from sklearn.neural_network import MLPClassifier\n",
        "from sklearn.datasets import make_classification\n",
        "clf = MLPClassifier(hidden_layer_sizes=1000,random_state=1, max_iter=1000).fit(X_train, Y_train)\n",
        "\n",
        "clf_predict = clf.predict(X_test)# check performance\n"
      ],
      "metadata": {
        "id": "VgJpqwlORNWz"
      },
      "execution_count": null,
      "outputs": []
    },
    {
      "cell_type": "code",
      "source": [
        "print('Accuracy score:',accuracy_score(Y_test, clf_predict))"
      ],
      "metadata": {
        "colab": {
          "base_uri": "https://localhost:8080/"
        },
        "id": "HpEKWDH7h4iK",
        "outputId": "77489a3f-32ca-422c-cfc0-8f105da10c06"
      },
      "execution_count": null,
      "outputs": [
        {
          "output_type": "stream",
          "name": "stdout",
          "text": [
            "Accuracy score: 0.8957694665849172\n"
          ]
        }
      ]
    },
    {
      "cell_type": "code",
      "source": [
        "estimators = np.arange(250, 1250, 250)\n",
        "ave_num = 1\n",
        "from sklearn.ensemble import GradientBoostingClassifier\n",
        "\n",
        "# Full Dataset\n",
        "f_accuracy = np.zeros_like(estimators, dtype=float)\n",
        "f_times = np.zeros_like(estimators, dtype=float)\n",
        "print(\"Full Dataset\")\n",
        "for i in range(ave_num):\n",
        "  for e in range(len(estimators)):\n",
        "    print(e)\n",
        "    tic = time()\n",
        "    grad_boost = GradientBoostingClassifier(n_estimators=estimators[e],\n",
        "                                            learning_rate=0.1,\n",
        "                                            max_depth=3,\n",
        "                                            random_state=0)\n",
        "    grad_boost.fit(xf_train, yf_train)\n",
        "    yf_pred = grad_boost.predict(xf_test)\n",
        "    f_times[e] = f_times[e] + toc\n",
        "    accuracy = accuracy_score(yf_test, yf_pred)\n",
        "    f_accuracy[e] = f_accuracy[e] + accuracy\n",
        "    # print(\"e:\", e, \", Accuracy:\", '{:.3f}'.format(accuracy), \"time:\", '{:.3f}'.format(toc))\n",
        "for e in range(len(estimators)):\n",
        "  f_times[e] = f_times[e]/ave_num\n",
        "  f_accuracy[e] = f_accuracy[e]/ave_num"
      ],
      "metadata": {
        "colab": {
          "base_uri": "https://localhost:8080/",
          "height": 270
        },
        "id": "oEVgY6yWBnm3",
        "outputId": "9def4e0c-97c9-42c8-9d48-aa753ae2bde4"
      },
      "execution_count": null,
      "outputs": [
        {
          "output_type": "stream",
          "name": "stdout",
          "text": [
            "Full Dataset\n",
            "0\n"
          ]
        },
        {
          "output_type": "error",
          "ename": "NameError",
          "evalue": "ignored",
          "traceback": [
            "\u001b[0;31m---------------------------------------------------------------------------\u001b[0m",
            "\u001b[0;31mNameError\u001b[0m                                 Traceback (most recent call last)",
            "\u001b[0;32m<ipython-input-30-c2e5a946df19>\u001b[0m in \u001b[0;36m<cell line: 9>\u001b[0;34m()\u001b[0m\n\u001b[1;32m     15\u001b[0m                                             \u001b[0mmax_depth\u001b[0m\u001b[0;34m=\u001b[0m\u001b[0;36m3\u001b[0m\u001b[0;34m,\u001b[0m\u001b[0;34m\u001b[0m\u001b[0;34m\u001b[0m\u001b[0m\n\u001b[1;32m     16\u001b[0m                                             random_state=0)\n\u001b[0;32m---> 17\u001b[0;31m     \u001b[0mgrad_boost\u001b[0m\u001b[0;34m.\u001b[0m\u001b[0mfit\u001b[0m\u001b[0;34m(\u001b[0m\u001b[0mxf_train\u001b[0m\u001b[0;34m,\u001b[0m \u001b[0myf_train\u001b[0m\u001b[0;34m)\u001b[0m\u001b[0;34m\u001b[0m\u001b[0;34m\u001b[0m\u001b[0m\n\u001b[0m\u001b[1;32m     18\u001b[0m     \u001b[0myf_pred\u001b[0m \u001b[0;34m=\u001b[0m \u001b[0mgrad_boost\u001b[0m\u001b[0;34m.\u001b[0m\u001b[0mpredict\u001b[0m\u001b[0;34m(\u001b[0m\u001b[0mxf_test\u001b[0m\u001b[0;34m)\u001b[0m\u001b[0;34m\u001b[0m\u001b[0;34m\u001b[0m\u001b[0m\n\u001b[1;32m     19\u001b[0m     \u001b[0mf_times\u001b[0m\u001b[0;34m[\u001b[0m\u001b[0me\u001b[0m\u001b[0;34m]\u001b[0m \u001b[0;34m=\u001b[0m \u001b[0mf_times\u001b[0m\u001b[0;34m[\u001b[0m\u001b[0me\u001b[0m\u001b[0;34m]\u001b[0m \u001b[0;34m+\u001b[0m \u001b[0mtoc\u001b[0m\u001b[0;34m\u001b[0m\u001b[0;34m\u001b[0m\u001b[0m\n",
            "\u001b[0;31mNameError\u001b[0m: name 'xf_train' is not defined"
          ]
        }
      ]
    }
  ],
  "metadata": {
    "colab": {
      "provenance": []
    },
    "kernelspec": {
      "display_name": "Python 3",
      "name": "python3"
    },
    "language_info": {
      "name": "python"
    }
  },
  "nbformat": 4,
  "nbformat_minor": 0
}